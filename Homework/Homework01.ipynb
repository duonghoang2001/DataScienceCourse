{
  "cells": [
    {
      "cell_type": "markdown",
      "metadata": {
        "id": "XZJ1-ci5XH9B"
      },
      "source": [
        "##Homework #1 Template\n",
        "\n",
        "50 points possible\n",
        "\n",
        "Goal: This assignment demonstrates you are able to work with Python notebooks. Please download and complete this template.  "
      ]
    },
    {
      "cell_type": "markdown",
      "metadata": {
        "id": "R_Y2lZ2MXotu"
      },
      "source": [
        "# Part 1 - Open and Edit\n",
        "\n",
        "(5 points)\n",
        "\n",
        "Demonstrate that you can open and edit a Python notebook by filling in your name and the date below.\n",
        "\n",
        "Name: Duong Hoang\n",
        "\n",
        "Date: 09/02/2022"
      ]
    },
    {
      "cell_type": "markdown",
      "metadata": {
        "id": "U8vpSnG3coJg"
      },
      "source": [
        "#Part 2 - Adding Code\n",
        "\n",
        "(15 points)\n",
        "\n",
        "Write Python code that prints only odd numbers in the range 0 through 25. Show your code below. Run your code and save the output inside of your notebook."
      ]
    },
    {
      "cell_type": "code",
      "execution_count": 4,
      "metadata": {
        "id": "gfjwMIfAcIx-"
      },
      "outputs": [
        {
          "name": "stdout",
          "output_type": "stream",
          "text": [
            "1\n",
            "3\n",
            "5\n",
            "7\n",
            "9\n",
            "11\n",
            "13\n",
            "15\n",
            "17\n",
            "19\n",
            "21\n",
            "23\n",
            "25\n"
          ]
        }
      ],
      "source": [
        "# insert code here\n",
        "for i in range(0,26,2):\n",
        "    print(i+1)"
      ]
    },
    {
      "cell_type": "markdown",
      "metadata": {
        "id": "PLsLm50oc3ly"
      },
      "source": [
        "#Part 3 -- Modifying Notebooks\n",
        "\n",
        "(15 points)\n",
        "\n",
        "Part 4 is missing! Demonstrate that you can add cells to a notebook by adding a text cell for \"Part 4\" directly below this (and before Part 5). Insert any text into this new section.  Below this new text cell, add a code cell containing a comment (say anything you want)."
      ]
    },
    {
      "cell_type": "markdown",
      "metadata": {},
      "source": [
        "#Part 4 - Adding a Text Cell\n",
        "\n",
        "This part does nothing"
      ]
    },
    {
      "cell_type": "code",
      "execution_count": null,
      "metadata": {},
      "outputs": [],
      "source": [
        "# this is a line comment"
      ]
    },
    {
      "cell_type": "markdown",
      "metadata": {
        "id": "hAzf6BP8eLDP"
      },
      "source": [
        "#Part 5 - Dealing with Errors\n",
        "\n",
        "(5 points)\n",
        "\n",
        "The code below attempts to add numbers 1 through 5 (inclusive) and print them. Fix the code below so that it runs without errors. Save the new output as part of your notebook."
      ]
    },
    {
      "cell_type": "code",
      "execution_count": 7,
      "metadata": {
        "colab": {
          "base_uri": "https://localhost:8080/",
          "height": 132
        },
        "id": "N3EflKNfeZFn",
        "outputId": "9498ea59-cc44-44d4-b8fd-ed13cad3a7f7"
      },
      "outputs": [
        {
          "name": "stdout",
          "output_type": "stream",
          "text": [
            "15\n"
          ]
        }
      ],
      "source": [
        "x = 1 + 2 + 3 + 4 + 5\n",
        "print(x)"
      ]
    },
    {
      "cell_type": "markdown",
      "metadata": {
        "id": "Qf8Fs-Y0iWtx"
      },
      "source": [
        "#Part 6 - Error Confusion\n",
        "\n",
        "(5 points)\n",
        "\n",
        "Your data scientist coworker believes the simple code below is broken because of the error message shown.  Are they correct? What might explain these errors?\n",
        "\n",
        "Answer by editing this text cell and highlighting your answer in bold below.\n",
        "\n",
        " **The error messages shown are not correct. The code below should work fine eventhough the parenthesis are unnecessary. These 'unexpected EOF while parsing' errors would occur when the end of the code is reached before all code blocks are completed, such as missing brackets, missing at least a line inside a for loop block, or missing except branch while try catching an error.**"
      ]
    },
    {
      "cell_type": "code",
      "execution_count": null,
      "metadata": {
        "colab": {
          "base_uri": "https://localhost:8080/",
          "height": 132
        },
        "id": "SjYA0AUIiTn7",
        "outputId": "a718618f-fa77-4ccf-a9b8-ff7a0f1e0c77"
      },
      "outputs": [
        {
          "ename": "SyntaxError",
          "evalue": "ignored",
          "output_type": "error",
          "traceback": [
            "\u001b[0;36m  File \u001b[0;32m\"<ipython-input-8-a54b81b050d8>\"\u001b[0;36m, line \u001b[0;32m1\u001b[0m\n\u001b[0;31m    x = (2 + 2\u001b[0m\n\u001b[0m              ^\u001b[0m\n\u001b[0;31mSyntaxError\u001b[0m\u001b[0;31m:\u001b[0m unexpected EOF while parsing\n"
          ]
        }
      ],
      "source": [
        "x = (2 + 2)"
      ]
    },
    {
      "cell_type": "markdown",
      "metadata": {
        "id": "lmU9U6OjjnfC"
      },
      "source": [
        "#Part 7 - Submission\n",
        "(5 points)\n",
        "\n",
        "Please make sure your submission has everything completed and is submitted on time. Partial credit will be given for incomplete responses. Your submission must be a valid Python notebook (.ipynb)."
      ]
    }
  ],
  "metadata": {
    "colab": {
      "collapsed_sections": [],
      "provenance": [],
      "toc_visible": true
    },
    "kernelspec": {
      "display_name": "Python 3.10.1 64-bit",
      "language": "python",
      "name": "python3"
    },
    "language_info": {
      "codemirror_mode": {
        "name": "ipython",
        "version": 3
      },
      "file_extension": ".py",
      "mimetype": "text/x-python",
      "name": "python",
      "nbconvert_exporter": "python",
      "pygments_lexer": "ipython3",
      "version": "3.10.1"
    },
    "vscode": {
      "interpreter": {
        "hash": "369f2c481f4da34e4445cda3fffd2e751bd1c4d706f27375911949ba6bb62e1c"
      }
    }
  },
  "nbformat": 4,
  "nbformat_minor": 0
}
