{
  "cells": [
    {
      "cell_type": "markdown",
      "metadata": {
        "id": "lOasO_-uLZfM"
      },
      "source": [
        "## Programming Assignment #2\n",
        "\n",
        "**Hogwarts Data Quality**\n",
        "\n",
        "100 points possible.\n",
        "\n",
        "This assignment aims to explore checking common data quality issues."
      ]
    },
    {
      "cell_type": "markdown",
      "metadata": {
        "id": "9bZ-x9euLD9_"
      },
      "source": [
        "# The Setting\n",
        "\n",
        "Being a wizard can be dangerous. Being a wizard in training can be even more dangerous. The Hogwarts school nurse is a very busy person and records their activity in a log.\n",
        "\n",
        "You are asked to review a sample of the logs from the nurse's office of Hogwarts and to report your findings.  \n",
        "\n",
        "Note: in class, we saw that there were a wide variety of issues with the data file.  This assignment asks you to programmatically flag data quality issues on **a specific subset of the of the issues** identified in class."
      ]
    },
    {
      "cell_type": "markdown",
      "metadata": {
        "id": "UNSIV2pP6dJL"
      },
      "source": [
        "# Part 0 -- Submission Details\n",
        "\n",
        "\n",
        "(10 points) Please enter your name and the date below. Submit your answers as a completed notebook by the deadline posted on Canvas.  Late submissions will not get credit for this section.\n",
        "\n",
        "Name: Duong Hoang\n",
        "\n",
        "Date: 10/03/2022\n"
      ]
    },
    {
      "cell_type": "markdown",
      "metadata": {
        "id": "V2qKhuvALpIh"
      },
      "source": [
        "#Part 1 -- Create\n",
        "\n",
        "(10 points) Download the data from Canvas and load it into an appropriate Python structure.  Leave a comment in your code justifying your choice in data structure.  \n",
        "\n",
        "You do not need to include this file with your submission; everyone's code will be ran with the same input data; do not modify the format of the file for your program."
      ]
    },
    {
      "cell_type": "code",
      "execution_count": 2,
      "metadata": {
        "id": "xUXWetgbWx-F"
      },
      "outputs": [],
      "source": [
        "# insert code here\n",
        "import pandas as pd\n",
        "\n",
        "# read data into pandas DataFrame\n",
        "data = pd.read_csv(\"nurse-log.csv\")\n",
        "\n",
        "# I choose pandas DataFrame because I can easily manage the data by\n",
        "# using their columns' names without tracking them separately (so that I know \n",
        "# which kind of data I am working with instead of having to track by index), \n",
        "# and also by using a variety of pandas library's functions to simplify my codes"
      ]
    },
    {
      "cell_type": "markdown",
      "metadata": {
        "id": "pudJ8kZQMuvs"
      },
      "source": [
        "# Part 2 -- Missing Data\n",
        "\n",
        "(15 points) Write a function that accepts as input your data structure from Part 1 and a \"column\" of data (a single variable name represented as a string) and reports the number of missing values.  \n",
        "\n",
        "Test your function by calling it at least three time and show the output; demonstrate your function works correctly by calling it with columns with and without missing data."
      ]
    },
    {
      "cell_type": "code",
      "execution_count": 3,
      "metadata": {
        "id": "ZBKACQ5pL6U7"
      },
      "outputs": [
        {
          "name": "stdout",
          "output_type": "stream",
          "text": [
            "Number of missing values in column 'medical_record_number': 1\n",
            "Number of missing values in column 'last_name': 1\n",
            "Number of missing values in column 'date': 1\n",
            "Number of missing values in column 'visit_id': 0\n",
            "Number of missing values in column 'charge': 0\n"
          ]
        }
      ],
      "source": [
        "# insert code here\n",
        "def count_missing_vals(data: pd.DataFrame, col_name: str):\n",
        "    # count total number of null values in the given column\n",
        "    return data[col_name].isnull().sum()\n",
        "\n",
        "# columns with missing data values\n",
        "print(\"Number of missing values in column 'medical_record_number':\", count_missing_vals(data, \"medical_record_number\"))\n",
        "print(\"Number of missing values in column 'last_name':\", count_missing_vals(data, \"last_name\"))\n",
        "print(\"Number of missing values in column 'date':\", count_missing_vals(data, \"date\"))\n",
        "\n",
        "# column without missing data values\n",
        "print(\"Number of missing values in column 'visit_id':\", count_missing_vals(data, \"visit_id\"))\n",
        "print(\"Number of missing values in column 'charge':\", count_missing_vals(data, \"charge\"))"
      ]
    },
    {
      "cell_type": "markdown",
      "metadata": {
        "id": "MB0plvPtNcJj"
      },
      "source": [
        "# Part 3 -- Bad Dates\n",
        "\n",
        "(15 points) Write a function that accepts as input your data structure from Part 1 and a \"column\" of data (a single variable name represented as a string) and reports the number of bad dates (impossible dates, poorly formated, etc).  For example, September has no 31st day.  If the record is not a date at all, such as the name \"Potter\", consider it a bad date by default.\n",
        "\n",
        "Test your function by calling it at least two times and show the output: once with the \"date\" column from the data and once with any other column.\n"
      ]
    },
    {
      "cell_type": "code",
      "execution_count": 4,
      "metadata": {
        "id": "M8I8pVsfMuKk"
      },
      "outputs": [
        {
          "name": "stdout",
          "output_type": "stream",
          "text": [
            "Number of bad dates in column 'date': 4\n",
            "Number of bad dates in column 'first_name': 22\n"
          ]
        }
      ],
      "source": [
        "# insert code here\n",
        "def count_bad_dates(data: pd.DataFrame, col_name: str):\n",
        "    # convert all non-'%m-%d-%Y' values in the given column to NaT then count them\n",
        "    return pd.to_datetime(data[col_name], format='%m-%d-%Y', errors='coerce').isna().sum()\n",
        "\n",
        "# test function with date type data\n",
        "print(\"Number of bad dates in column 'date':\", count_bad_dates(data, 'date'))\n",
        "# test function with non-date type data\n",
        "print(\"Number of bad dates in column 'first_name':\", count_bad_dates(data, 'first_name'))"
      ]
    },
    {
      "cell_type": "markdown",
      "metadata": {
        "id": "owJybnM6OhsG"
      },
      "source": [
        "#Part 4 -- Outliers\n",
        "\n",
        "(15 points) Write a function that accepts as input your data structure from Part 1 and a \"column\" of data (a single variable represented as a string) and reports the number of outliers.  \n",
        "\n",
        "Define outliers as any value that is -/+ **X** standard deviations away from the mean value, where **X** is a value you choose.  \n",
        "\n",
        "Special case consideration: return 0 by default if the input data is not numerical data (because standard deviation must be well-defined for this function to work properly).\n",
        "\n",
        "Leave as a comment how you chose the value of **X**.\n",
        "\n",
        "Test your function by calling it at least two times and show the output: once with a column containly only numerical records and one containing at least one non-numerical result."
      ]
    },
    {
      "cell_type": "code",
      "execution_count": 28,
      "metadata": {
        "id": "HVwqfJwdOhSy"
      },
      "outputs": [
        {
          "name": "stdout",
          "output_type": "stream",
          "text": [
            "Number of outliers in column 'height(cm)': 1\n",
            "Number of outliers in column 'first_name': 0\n"
          ]
        }
      ],
      "source": [
        "# insert code here\n",
        "def count_outliers(data: pd.DataFrame, col_name: str):\n",
        "    col = data[col_name] # extract column from DataFrame\n",
        "    # if the given column is not numerical data, return 0\n",
        "    if not pd.api.types.is_numeric_dtype(col):\n",
        "        return 0\n",
        "    # otherwise, count outliers based on data's standard deviation(std) and mean values\n",
        "    mean = col.mean(axis=0, skipna=True)\n",
        "    std = col.std(axis=0, skipna=True)\n",
        "    # outlier would be those smaller than mean subtracting std and greater than mean adding std\n",
        "    return sum((col < mean - std) | (col > mean + std))\n",
        "\n",
        "# test function with column contains only numerical records\n",
        "print(\"Number of outliers in column 'height(cm)':\", count_outliers(data, 'height(cm)'))\n",
        "\n",
        "# test function with column contains at least one non-numerical records\n",
        "print(\"Number of outliers in column 'first_name':\", count_outliers(data, 'first_name'))"
      ]
    },
    {
      "cell_type": "markdown",
      "metadata": {
        "id": "NgVVGHz-PpED"
      },
      "source": [
        "#Part 5 -- Consistency Checking Example\n",
        "\n",
        "(15 points) -- Write a function that checks for consistency in the **time_spent** column.  Assume that the correct unit of measurement should be **minutes**.  Your function should return how many values are not consistent with this chosen standard.\n",
        "\n",
        "Design your own function parameters.  Leave as a comment why you chose these parameters.\n",
        "\n",
        "Test your function by calling it at least once and show the output."
      ]
    },
    {
      "cell_type": "code",
      "execution_count": 25,
      "metadata": {
        "id": "UxPiXgijP6Pr"
      },
      "outputs": [
        {
          "name": "stdout",
          "output_type": "stream",
          "text": [
            "Number of inconsistent time values: 3\n"
          ]
        }
      ],
      "source": [
        "# insert code here\n",
        "\n",
        "# 3 parameters: data (a DataFrame) and col_name (column name, string) to specify\n",
        "# the data column to check for unit consistency, and unit (string) is the standard unit \n",
        "# to use for checking across all entries in the given data column.\n",
        "# Using these parameters, we would be able to check for a variety of data \n",
        "# and using different units as standards\n",
        "def time_inconsistency(data: pd.DataFrame, col_name: str, unit: str):\n",
        "    # count all the entries that use the given unit as their unit\n",
        "    correct_val_count = data[col_name].str.contains(unit, regex=False).sum()\n",
        "    # number of entries that use other units would be \n",
        "    # the total entries minus the correct entries count above\n",
        "    return data[col_name].size - correct_val_count\n",
        "\n",
        "# test on time_spent column\n",
        "print(\"Number of inconsistent time values:\", time_inconsistency(data, 'time_spent', 'minutes'))"
      ]
    },
    {
      "cell_type": "markdown",
      "metadata": {
        "id": "YLJrrg_4QUse"
      },
      "source": [
        "#Part 6 -- Reporting\n",
        "\n",
        "(10 points) -- Write code that generates a report using the functions defined in Parts 2-5.  Your report should summarize any findings **per appropriate columns**.\n",
        "\n",
        "You may write this to file or just print to standard output.  \n",
        "\n",
        "Below is an example output (using X,Y,Z in place of actual values). You may deviate from the example output as long as the same information is conveyed; in other words, you have **creative freedom in presentation** but the content needs to summarize the results from Parts 2-5.\n",
        "\n",
        "```\n",
        "Column medical_record_number has X missing values.\n",
        "Column first_name has X missing values.\n",
        "Column last_name has X missing values.\n",
        "Column visit has X missing values.\n",
        "Column date has X missing values.\n",
        "Column time_spent has X missing values.\n",
        "Column height(cm) has X missing values.\n",
        "Column weight(kg) has X missing values.\n",
        "Column charge has X missing values.\n",
        "Column supplies_used has X missing values.\n",
        "\n",
        "Column time_spent has X outliers.\n",
        "Column height(cm) has X outliers.\n",
        "Column weight(kg) has X outliers.\n",
        "Column charge has X outliers.\n",
        "Column supplies_used has X outliers\n",
        "\n",
        "Column date has Y bad dates.\n",
        "Column time_spent Z inconsistent values.\n",
        "```"
      ]
    },
    {
      "cell_type": "code",
      "execution_count": 29,
      "metadata": {
        "id": "7foNwnTaUQ85"
      },
      "outputs": [
        {
          "name": "stdout",
          "output_type": "stream",
          "text": [
            "Column medical_record_number has 1 missing values.\n",
            "Column first_name has 1 missing values.\n",
            "Column last_name has 1 missing values.\n",
            "Column visit_id has 0 missing values.\n",
            "Column date has 1 missing values.\n",
            "Column time_spent has 1 missing values.\n",
            "Column height(cm) has 1 missing values.\n",
            "Column weight(kg) has 0 missing values.\n",
            "Column charge has 0 missing values.\n",
            "Column supplies_used has 1 missing values.\n",
            "\n",
            "Column medical_record_number has 2 outliers.\n",
            "Column first_name has 0 outliers.\n",
            "Column last_name has 0 outliers.\n",
            "Column visit_id has 9 outliers.\n",
            "Column date has 0 outliers.\n",
            "Column time_spent has 0 outliers.\n",
            "Column height(cm) has 1 outliers.\n",
            "Column weight(kg) has 2 outliers.\n",
            "Column charge has 7 outliers.\n",
            "Column supplies_used has 1 outliers.\n",
            "\n",
            "Column date has 4 bad dates.\n",
            "Column time_spent has 3 inconsistent values.\n"
          ]
        }
      ],
      "source": [
        "# insert code here\n",
        "\n",
        "# report each column's number of missing values\n",
        "for col in data.columns:\n",
        "    print(\"Column\", col, \"has\", count_missing_vals(data, col), \"missing values.\")\n",
        "print()\n",
        "# report each column's number of outliers\n",
        "for col in data.columns:\n",
        "    print(\"Column\", col, \"has\", count_outliers(data, col), \"outliers.\")\n",
        "print()\n",
        "# report number of bad dates\n",
        "print(\"Column date has\", count_bad_dates(data, 'date'), \"bad dates.\")\n",
        "# report number of inconsistent time values\n",
        "print(\"Column time_spent has\", time_inconsistency(data, 'time_spent', 'minutes'), \"inconsistent values.\")"
      ]
    },
    {
      "cell_type": "markdown",
      "metadata": {
        "id": "D_-TDJPP65Lp"
      },
      "source": [
        "# Part 7 -- Documentation and Correctness\n",
        "(10 points) Please document your code with human-readable messages explaining what the code is doing; at a minimum, every function and control structure should be documented.\n",
        "\n",
        "Additionally, please error check your code; partial credit will be given to answers that do not fully address the requirements. For example, if it says write a function, please make sure your code provides a function.\n",
        "\n",
        "Please make sure your submission has everything completed.\n",
        "\n",
        "You do not need to include the common data file in your submission."
      ]
    }
  ],
  "metadata": {
    "colab": {
      "collapsed_sections": [],
      "provenance": [],
      "toc_visible": true
    },
    "kernelspec": {
      "display_name": "Python 3.10.7 64-bit",
      "language": "python",
      "name": "python3"
    },
    "language_info": {
      "codemirror_mode": {
        "name": "ipython",
        "version": 3
      },
      "file_extension": ".py",
      "mimetype": "text/x-python",
      "name": "python",
      "nbconvert_exporter": "python",
      "pygments_lexer": "ipython3",
      "version": "3.10.7"
    },
    "vscode": {
      "interpreter": {
        "hash": "aee8b7b246df8f9039afb4144a1f6fd8d2ca17a180786b69acc140d282b71a49"
      }
    }
  },
  "nbformat": 4,
  "nbformat_minor": 0
}
