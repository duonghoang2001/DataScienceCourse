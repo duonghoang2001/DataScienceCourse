{
  "cells": [
    {
      "cell_type": "markdown",
      "metadata": {
        "id": "KF6clwLhNYO1"
      },
      "source": [
        "##Homework #2 Template\n",
        "50 points possible\n",
        "\n",
        "Goal: Python practice and working with various data structures."
      ]
    },
    {
      "cell_type": "markdown",
      "metadata": {
        "id": "uhq1-klFNeuN"
      },
      "source": [
        "#1. Submission\n",
        "\n",
        "(5 points) \n",
        "\n",
        "Please enter your name and the date below. Submit your answers as a completed notebook by the deadline posted on Canvas.\n",
        "\n",
        "Name: Duong Hoang\n",
        "\n",
        "Date: 09/08/2022\n",
        "\n",
        "\n"
      ]
    },
    {
      "cell_type": "markdown",
      "metadata": {
        "id": "h_MmyxAlShax"
      },
      "source": [
        "#2. Lists and Tuples\n",
        "\n",
        "(10 points)\n",
        "\n",
        "Demonstrate your knowledge by creating and printing variables representing each of the following:\n",
        "\n",
        "* a list called demo_list of length 10, containing randomly generated numbers\n",
        "* a tuple called demo_tuple of length 3, containing randomly generated numbers\n",
        "* a list called demo_list_of_tuples of length 5, containing tuples of length 3 (which are randomly generated numbers).\n",
        "\n",
        "Notes:\n",
        "\n",
        "* Any range of randomness is acceptable."
      ]
    },
    {
      "cell_type": "code",
      "execution_count": 39,
      "metadata": {
        "id": "Xcp7f-dgUfoY"
      },
      "outputs": [
        {
          "name": "stdout",
          "output_type": "stream",
          "text": [
            "[6, 7, 10, 4, 7, 0, 2, 1, 8, 2]\n",
            "(1, 0, 8)\n",
            "[(4, 6, 6), (2, 3, 5), (6, 6, 1), (8, 6, 7), (9, 7, 3)]\n"
          ]
        }
      ],
      "source": [
        "# insert code here\n",
        "import random\n",
        "\n",
        "# a list of length 10 containing randomly generated numbers\n",
        "demo_list = [random.randint(0, 10) for i in range(10)]\n",
        "print(demo_list)\n",
        "\n",
        "# a tuple of length 3 containing randomly generated numbers\n",
        "demo_tuple = tuple(random.randint(0, 10) for i in range(3))\n",
        "print(demo_tuple)\n",
        "\n",
        "# a list of length 5 containing tuples of length 3 (which are randomly generated numbers)\n",
        "demo_list_of_tuples = [tuple(random.randint(0, 10) for i in range(3)) for j in range(5)]\n",
        "print(demo_list_of_tuples)\n"
      ]
    },
    {
      "cell_type": "markdown",
      "metadata": {
        "id": "CeQeS5rkOUNg"
      },
      "source": [
        "#3.  Python Practice\n",
        "\n",
        "(10 points)\n",
        "\n",
        "Write a function  that takes a list, removes the first item, removes the last item, reverses the order of the list, and returns the modified list.  For example, an input of a list containing [1,2,3,4] would result in [3,2].\n",
        "\n",
        "* Recall lists are ordered; order of these operations and data type of the list entries does not matter; the output will be the same.\n",
        "* Return an empty list if the list contains two or fewer items.\n",
        "* Test your function by calling it 4 times (with different inputs); print the original list and the modified list for each test case."
      ]
    },
    {
      "cell_type": "code",
      "execution_count": 45,
      "metadata": {
        "id": "tVUF8P97OT3Y"
      },
      "outputs": [
        {
          "name": "stdout",
          "output_type": "stream",
          "text": [
            "Original:  [1, 2, 3, 4] \tModified:  [3, 2]\n",
            "Original:  [5, 3, 'not a number', 9, 1] \tModified:  [9, 'not a number', 3]\n",
            "Original:  ['hello', 'world'] \tModified:  []\n",
            "Original:  [] \tModified:  []\n"
          ]
        }
      ],
      "source": [
        "# insert code here\n",
        "def modify_list(example: list):\n",
        "    # if list has 2 or fewer elements, modified list is empty\n",
        "    if len(example) <= 2: modified_example = []\n",
        "    # else,\n",
        "    else:\n",
        "        # extract the list without first and last elements\n",
        "        modified_example = example[1:-1]\n",
        "        # reverse the list\n",
        "        modified_example.reverse()\n",
        "    \n",
        "    # return modified list\n",
        "    return modified_example\n",
        "\n",
        "# test cases:\n",
        "test1 = [1, 2, 3, 4] # even number of elements, greater than 2\n",
        "test2 = [5, 3, \"not a number\", 9, 1] # odd number of elements, greater than 2\n",
        "test3 = [\"hello\", \"world\"] # 2 elements\n",
        "test4 = [] # empty list\n",
        "\n",
        "# modify the 4 test case lists\n",
        "print(\"Original: \", test1, \"\\tModified: \", modify_list(test1))\n",
        "print(\"Original: \", test2, \"\\tModified: \", modify_list(test2))\n",
        "print(\"Original: \", test3, \"\\tModified: \", modify_list(test3))\n",
        "print(\"Original: \", test4, \"\\tModified: \", modify_list(test4))"
      ]
    },
    {
      "cell_type": "markdown",
      "metadata": {
        "id": "djMLJBaYQQPx"
      },
      "source": [
        "#4. Python Practice\n",
        "\n",
        "(10 points)\n",
        "\n",
        "Write a function that takes a list, appends to itself every other item in the original list (items at index 0,2,4,6, and so on), and returns the modified list.  For example, an input of a list containing [1,2,3,4,5,6,7,8,9,10] would yield a result of [1,2,3,4,5,6,7,8,9,10,1,3,5,7,9].\n",
        "\n",
        "* An input of an empty list should return an empty list.\n",
        "* Test your function by calling it 4 times (with different inputs); print the original list and the modified list for each test case."
      ]
    },
    {
      "cell_type": "code",
      "execution_count": 54,
      "metadata": {
        "id": "rw5fIpv1MsbF"
      },
      "outputs": [
        {
          "name": "stdout",
          "output_type": "stream",
          "text": [
            "Original:  [1, 2, 3, 4] \tModified:  [1, 2, 3, 4, 1, 3]\n",
            "Original:  [5, 3, 'not a number', 9, 1] \tModified:  [5, 3, 'not a number', 9, 1, 5, 'not a number', 1]\n",
            "Original:  ['hello', 'world'] \tModified:  ['hello', 'world', 'hello']\n",
            "Original:  [] \tModified:  []\n"
          ]
        }
      ],
      "source": [
        "# insert code here\n",
        "def append_other(example: list):\n",
        "    # make a copy of the current list\n",
        "    modified_example = []\n",
        "    modified_example.extend(example)\n",
        "\n",
        "    # looping through the list with a step of 2\n",
        "    for i in range(0, len(modified_example), 2):\n",
        "        # append the element to the end of the list\n",
        "        modified_example.append(modified_example[i])\n",
        "    \n",
        "    # return modified list\n",
        "    return modified_example\n",
        "\n",
        "# test cases:\n",
        "test1 = [1, 2, 3, 4] # even number of elements\n",
        "test2 = [5, 3, \"not a number\", 9, 1] # odd number of elements\n",
        "test3 = [\"hello\", \"world\"] # list of strings\n",
        "test4 = [] # empty list\n",
        "\n",
        "# modify the 4 test case lists\n",
        "print(\"Original: \", test1, \"\\tModified: \", append_other(test1))\n",
        "print(\"Original: \", test2, \"\\tModified: \", append_other(test2))\n",
        "print(\"Original: \", test3, \"\\tModified: \", append_other(test3))\n",
        "print(\"Original: \", test4, \"\\tModified: \", append_other(test4))"
      ]
    },
    {
      "cell_type": "markdown",
      "metadata": {
        "id": "2m8rZU4mVqfb"
      },
      "source": [
        "#5. Python Practice\n",
        "\n",
        "(15 points)\n",
        "\n",
        "Write a function that generates a list (of length N) of tuples (of length M) containing randomly generated numbers. \n",
        "\n",
        "* Paremeters to your function should correspond to the dimensions needed to create the structure.\n",
        "* Protect your function against bad inputs and return an empty list when the input is unexpected/incompatible.\n",
        "* Test your function by calling it 4 times (with different inputs); print the results of each run. Make at least one of these calls use bad input."
      ]
    },
    {
      "cell_type": "code",
      "execution_count": 51,
      "metadata": {
        "id": "7ZAWIKOYVp60"
      },
      "outputs": [
        {
          "name": "stdout",
          "output_type": "stream",
          "text": [
            "n = 3  m = 4 --> [(7, 0, 2, 4), (2, 3, 10, 0), (0, 8, 6, 8)]\n",
            "n = 5  m = -2 --> []\n",
            "n = 4  m = 0 --> [(), (), (), ()]\n",
            "n = hi  m = [8] --> []\n"
          ]
        }
      ],
      "source": [
        "# insert code here\n",
        "import random\n",
        "\n",
        "# n: size of list, m: size of tuple\n",
        "def create_list_of_tuples(n: int, m: int):\n",
        "    # if inputs are non-negative integers, create a list of n tuples of size m\n",
        "    if isinstance(n, int) and isinstance(m, int) and n >= 0 and m >= 0:\n",
        "        example = [tuple(random.randint(0, 10) for i in range(m)) for j in range(n)]\n",
        "    # else, create an empty list\n",
        "    else:\n",
        "        example = []\n",
        "    \n",
        "    # return generated list\n",
        "    return example\n",
        "\n",
        "# test case 1: normal inputs\n",
        "n1 = 3\n",
        "m1 = 4\n",
        "print(\"n =\", n1, \" m =\", m1, \"-->\", create_list_of_tuples(n1, m1))\n",
        "# test case 2: negative inputs\n",
        "n2 = 5\n",
        "m2 = -2\n",
        "print(\"n =\", n2, \" m =\", m2, \"-->\", create_list_of_tuples(n2, m2))\n",
        "# test case 3: empty tuples \n",
        "n3 = 4\n",
        "m3 = 0\n",
        "print(\"n =\", n3, \" m =\", m3, \"-->\", create_list_of_tuples(n3, m3))\n",
        "# test case 4: string and list inputs\n",
        "n4 = 'hi'\n",
        "m4 = [8]\n",
        "print(\"n =\", n4, \" m =\", m4, \"-->\", create_list_of_tuples(n4, m4))"
      ]
    }
  ],
  "metadata": {
    "colab": {
      "collapsed_sections": [],
      "provenance": [],
      "toc_visible": true
    },
    "kernelspec": {
      "display_name": "Python 3.10.1 64-bit",
      "language": "python",
      "name": "python3"
    },
    "language_info": {
      "codemirror_mode": {
        "name": "ipython",
        "version": 3
      },
      "file_extension": ".py",
      "mimetype": "text/x-python",
      "name": "python",
      "nbconvert_exporter": "python",
      "pygments_lexer": "ipython3",
      "version": "3.10.1"
    },
    "vscode": {
      "interpreter": {
        "hash": "369f2c481f4da34e4445cda3fffd2e751bd1c4d706f27375911949ba6bb62e1c"
      }
    }
  },
  "nbformat": 4,
  "nbformat_minor": 0
}
