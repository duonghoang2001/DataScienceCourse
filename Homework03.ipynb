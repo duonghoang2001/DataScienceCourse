{
  "cells": [
    {
      "cell_type": "markdown",
      "metadata": {
        "id": "KF6clwLhNYO1"
      },
      "source": [
        "##Homework #3 Template\n",
        "50 points possible\n",
        "\n",
        "Goal: Become familiar with the process of downloading and loading data into Python."
      ]
    },
    {
      "cell_type": "markdown",
      "metadata": {
        "id": "uhq1-klFNeuN"
      },
      "source": [
        "#1. Submission\n",
        "\n",
        "(5 points) \n",
        "\n",
        "Please enter your name and the date below. Submit your answers as a completed notebook by the deadline posted on Canvas.\n",
        "\n",
        "Name: Duong Hoang\n",
        "\n",
        "Date: 09/22/2022\n",
        "\n",
        "\n"
      ]
    },
    {
      "cell_type": "markdown",
      "metadata": {
        "id": "uP4294Ha8O5E"
      },
      "source": [
        "#2. Find/Describe Data\n",
        "\n",
        "(10 points) Find and download a data set that interests you personally (online or through your work/student life). In plain English (not Python), please describe the data set below and why it interests you. What do the rows correspond to? What do the columns correspond to?"
      ]
    },
    {
      "cell_type": "markdown",
      "metadata": {
        "id": "S-RLQZsN8oeI"
      },
      "source": [
        "Please **insert answer here** in this box. Edit this text."
      ]
    },
    {
      "cell_type": "markdown",
      "metadata": {
        "id": "QttjTlp08uEm"
      },
      "source": [
        "#3. Load Data\n",
        "\n",
        "(10 points) Write code to load your data into an appropriate Python data structure.  Use any structure that makes sense (arrays, series, dateframe, or any other).  Insert as a comment why you chose this particular data structure."
      ]
    },
    {
      "cell_type": "code",
      "execution_count": null,
      "metadata": {
        "id": "b5ibc8yC7jXL"
      },
      "outputs": [],
      "source": [
        "#insert code here\n",
        "\n",
        "#insert comment on data structure selection"
      ]
    },
    {
      "cell_type": "markdown",
      "metadata": {
        "id": "fe-PSJGO8uBc"
      },
      "source": [
        "#4. Dimensions\n",
        "\n",
        "(10 points) Write code that counts and prints how many records (or rows) and how many variables (or columns) are contained in your data."
      ]
    },
    {
      "cell_type": "code",
      "execution_count": null,
      "metadata": {
        "id": "0cMtP4iY9ZMl"
      },
      "outputs": [],
      "source": [
        "#insert code here"
      ]
    },
    {
      "cell_type": "markdown",
      "metadata": {
        "id": "78CUqhu8-OKD"
      },
      "source": [
        "#5. Slice\n",
        "\n",
        "(10 points) Write code that creates a subset of your data in a meaningful way.  For example, create a slice of your data that contains only certain rows or columns.\n",
        "\n",
        "Print how many rows/columns are in this subset of data."
      ]
    },
    {
      "cell_type": "code",
      "execution_count": null,
      "metadata": {
        "id": "racEFqRB-fhP"
      },
      "outputs": [],
      "source": [
        "#insert code here"
      ]
    },
    {
      "cell_type": "markdown",
      "metadata": {
        "id": "83UPBR_N_Pfb"
      },
      "source": [
        "#6. Submit data\n",
        "\n",
        "(5 points) Submit data with your Canvas submission. Test data is likely needed to run, test, and grade your code. If your test data is large (over the Canvas submission size), please only submit a sample.  If your data is not distributable due to licensing or regulatory concerns, please submit artificial test data.  If your code pulls data from a publicly-available URL at run-time, please submit a copy (or sample) anyways in case of unexpected access issues. Zip files are perfectly acceptable responses."
      ]
    },
    {
      "cell_type": "code",
      "execution_count": null,
      "metadata": {
        "id": "dute1i-5BP8P"
      },
      "outputs": [],
      "source": [
        "# No code needed -- please submit as instructed."
      ]
    }
  ],
  "metadata": {
    "colab": {
      "collapsed_sections": [],
      "provenance": [],
      "toc_visible": true
    },
    "kernelspec": {
      "display_name": "Python 3.10.1 64-bit",
      "language": "python",
      "name": "python3"
    },
    "language_info": {
      "name": "python",
      "version": "3.10.1"
    },
    "vscode": {
      "interpreter": {
        "hash": "369f2c481f4da34e4445cda3fffd2e751bd1c4d706f27375911949ba6bb62e1c"
      }
    }
  },
  "nbformat": 4,
  "nbformat_minor": 0
}
