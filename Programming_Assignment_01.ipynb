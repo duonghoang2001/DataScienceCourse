{
  "cells": [
    {
      "cell_type": "markdown",
      "metadata": {
        "id": "lOasO_-uLZfM"
      },
      "source": [
        "# Programming Assignment #1 - **Python and Grid-based Gambling**\n",
        "\n",
        "100 points possible. \n",
        "\n",
        "Goal: This assignment aims to explore file input and output with a complex data structure."
      ]
    },
    {
      "cell_type": "markdown",
      "metadata": {
        "id": "NfM4QQhGNuVD"
      },
      "source": [
        "## The Setting\n",
        "\n",
        "You work for a casino that is piloting new gambling machines.  The casino has 6 rows of the new machines; each row contains 6 machines. Each machine in this 6x6 grid will allow a no more than 10 jackpot prizes per hour.\n",
        "\n",
        "The casino asks you to monitor and log the machines over time; this requires various tasks outlined in the sections below."
      ]
    },
    {
      "cell_type": "markdown",
      "metadata": {
        "id": "Mt5YJJ_-Lw5B"
      },
      "source": [
        "# Part 0 -- Submission Details\n",
        "\n",
        "\n",
        "(10 points) Please enter your name and the date below. Submit your answers as a completed notebook by the deadline posted on Canvas.  Late submissions will not get credit for this section.\n",
        "\n",
        "Name: Duong Hoang\n",
        "\n",
        "Date: 09/22/2022\n"
      ]
    },
    {
      "cell_type": "markdown",
      "metadata": {
        "id": "qLWAuTo-RneR"
      },
      "source": [
        "# Part 1 -- Create\n",
        "\n",
        "(10 points)  You've been asked to simulate **12 hours** of data collection, where the number of each machine's **jackpots per hour** are recorded.\n",
        "\n",
        "Create a 3D structure capable of storing the hourly totals for each machine in the 6x6 grid; fill this structure with random integer values between 0 and 10 (inclusive) to indicate how many jackpots per machine happened.\n",
        "\n",
        "Your 3D data structure should be able to hold 12 copies of 6x6 values. Print your structure."
      ]
    },
    {
      "cell_type": "code",
      "execution_count": 1,
      "metadata": {
        "id": "nUejFC9RTNaA"
      },
      "outputs": [
        {
          "name": "stdout",
          "output_type": "stream",
          "text": [
            "[[[ 6  8  0  0  8  1]\n",
            "  [ 7 10  3  9 10  4]\n",
            "  [ 4  7  2  5  1  0]\n",
            "  [ 7  6  5  6  6  7]\n",
            "  [ 6  2  3  0  8  9]\n",
            "  [ 2  3  2  1  5  2]]\n",
            "\n",
            " [[ 8 10  1  0  4  5]\n",
            "  [ 3  7  7  8  2 10]\n",
            "  [10  1  5  7  3  4]\n",
            "  [10  6  1  6  6  8]\n",
            "  [ 6  1  2  3  7  6]\n",
            "  [ 7  4  7  4  0  9]]\n",
            "\n",
            " [[ 5  8  3  5  3  8]\n",
            "  [ 1  2  3 10  2  1]\n",
            "  [ 6  2  5 10  0  8]\n",
            "  [ 4  7  1  5  4  7]\n",
            "  [ 5  5  0  1  9  6]\n",
            "  [ 6  6 10  6  0  0]]\n",
            "\n",
            " [[ 0  5  0 10  5  7]\n",
            "  [ 5  7  2  8  9  7]\n",
            "  [ 2  8  5  0 10  3]\n",
            "  [ 0  1  4  7  2  8]\n",
            "  [ 6  0  7  2  6  7]\n",
            "  [10  9  8  9 10  7]]\n",
            "\n",
            " [[10  6  1  2  2  1]\n",
            "  [ 9  7  8  6  2  0]\n",
            "  [ 0  5  7  2  2  5]\n",
            "  [ 4  5 10  4  7  4]\n",
            "  [ 8  0  8  5  7  0]\n",
            "  [ 8  8  0  4  5  1]]\n",
            "\n",
            " [[ 2  7  4  2  4  6]\n",
            "  [ 9  8  5  8  9  1]\n",
            "  [ 8  6  6  3  2  6]\n",
            "  [ 4  4  0  5 10  0]\n",
            "  [ 1  3  2 10  6  2]\n",
            "  [ 7  7  4  1  9 10]]\n",
            "\n",
            " [[ 3  9  3 10  2  3]\n",
            "  [ 0  3  9  6  5  6]\n",
            "  [ 4  1  4  2  3  5]\n",
            "  [ 2  9  3  5  6  3]\n",
            "  [ 4  8  8 10  9  8]\n",
            "  [ 7  1 10  2  2 10]]\n",
            "\n",
            " [[ 7  2  5  0  7  9]\n",
            "  [ 7  1  6  1  8  9]\n",
            "  [ 5  6  4  6  8 10]\n",
            "  [ 7  6  0  4  7  3]\n",
            "  [ 4 10  9  5  6  8]\n",
            "  [10  4 10  6 10  5]]\n",
            "\n",
            " [[ 0 10  2  1  9  4]\n",
            "  [ 7  4  4  9  6  2]\n",
            "  [ 6  7  1  8 10  5]\n",
            "  [ 9  8  7  7  3  4]\n",
            "  [10 10  4  8  5  6]\n",
            "  [ 5  6  7  3  2  6]]\n",
            "\n",
            " [[ 8  8  1  7  4  1]\n",
            "  [ 8  0  1 10  7  8]\n",
            "  [ 7  2  7  3  6  7]\n",
            "  [ 6  7  7  3  6  6]\n",
            "  [ 9  5  6  5  0  5]\n",
            "  [10 10  2  1  7  0]]\n",
            "\n",
            " [[ 7 10 10  3  5  9]\n",
            "  [ 9  4  2  0  8  7]\n",
            "  [ 5  5 10  7  4  4]\n",
            "  [ 0  2  6 10  7  5]\n",
            "  [ 8  1  2  1  2  8]\n",
            "  [ 0  6  2 10  4  2]]\n",
            "\n",
            " [[ 6  5  8  0  4  2]\n",
            "  [ 3  7  4  6  5  2]\n",
            "  [ 7  8  3  3  8  5]\n",
            "  [ 0  0 10  9  8  1]\n",
            "  [ 8  5  3  8  7 10]\n",
            "  [ 4 10 10  4  3  9]]]\n"
          ]
        }
      ],
      "source": [
        "# insert code here\n",
        "import numpy as np\n",
        "\n",
        "# generate a 3D-array 12x6x6 with random values within 0 to 10\n",
        "jackpots_data = np.random.randint(0, 11, size=(12, 6, 6))\n",
        "# output data structure\n",
        "print(jackpots_data)"
      ]
    },
    {
      "cell_type": "markdown",
      "metadata": {
        "id": "_tKrDDQISYYf"
      },
      "source": [
        "# Part 2 -- Write to File\n",
        "\n",
        "(15 points) Write a function that takes (1) a filename and (2) a 3D data structure; this function should write the contents of the 3D structure to the specified file. Use any file format or any module you wish.  Run your function with an appropriate filename and the 3D structure from Part #1."
      ]
    },
    {
      "cell_type": "code",
      "execution_count": 2,
      "metadata": {
        "id": "EuxeM8ArNyW-"
      },
      "outputs": [],
      "source": [
        "# insert code here\n",
        "import pandas as pd\n",
        "\n",
        "def to_csv_file(filename: str, data: np.ndarray):\n",
        "    # convert 3D-array 12x6x6 into a 2D-dataframe 12x36\n",
        "    df_data = pd.DataFrame(data.reshape(data.shape[0], -1))\n",
        "    # output dataframe to a csv file with the given filename\n",
        "    df_data.to_csv(path_or_buf=filename, header=False, index=False) \n",
        "\n",
        "# output jackpots data to a csv file\n",
        "to_csv_file('jackpots.csv', jackpots_data)"
      ]
    },
    {
      "cell_type": "markdown",
      "metadata": {
        "id": "8WXbVVeGT8BK"
      },
      "source": [
        "# Part 3 -- Read from File\n",
        "\n",
        "(15 points) Write a function that takes a filename, opens it, and returns the 3D structure saved inside the specified file.  Call your function using the filename from Part 2 and save the results into a new variable. Print the contents of this variable. \n",
        "\n",
        "In other words, your function should open what your function in Part 2 has saved."
      ]
    },
    {
      "cell_type": "code",
      "execution_count": 3,
      "metadata": {
        "id": "1H4ZE8irT7ef"
      },
      "outputs": [
        {
          "name": "stdout",
          "output_type": "stream",
          "text": [
            "[[[ 6  8  0  0  8  1]\n",
            "  [ 7 10  3  9 10  4]\n",
            "  [ 4  7  2  5  1  0]\n",
            "  [ 7  6  5  6  6  7]\n",
            "  [ 6  2  3  0  8  9]\n",
            "  [ 2  3  2  1  5  2]]\n",
            "\n",
            " [[ 8 10  1  0  4  5]\n",
            "  [ 3  7  7  8  2 10]\n",
            "  [10  1  5  7  3  4]\n",
            "  [10  6  1  6  6  8]\n",
            "  [ 6  1  2  3  7  6]\n",
            "  [ 7  4  7  4  0  9]]\n",
            "\n",
            " [[ 5  8  3  5  3  8]\n",
            "  [ 1  2  3 10  2  1]\n",
            "  [ 6  2  5 10  0  8]\n",
            "  [ 4  7  1  5  4  7]\n",
            "  [ 5  5  0  1  9  6]\n",
            "  [ 6  6 10  6  0  0]]\n",
            "\n",
            " [[ 0  5  0 10  5  7]\n",
            "  [ 5  7  2  8  9  7]\n",
            "  [ 2  8  5  0 10  3]\n",
            "  [ 0  1  4  7  2  8]\n",
            "  [ 6  0  7  2  6  7]\n",
            "  [10  9  8  9 10  7]]\n",
            "\n",
            " [[10  6  1  2  2  1]\n",
            "  [ 9  7  8  6  2  0]\n",
            "  [ 0  5  7  2  2  5]\n",
            "  [ 4  5 10  4  7  4]\n",
            "  [ 8  0  8  5  7  0]\n",
            "  [ 8  8  0  4  5  1]]\n",
            "\n",
            " [[ 2  7  4  2  4  6]\n",
            "  [ 9  8  5  8  9  1]\n",
            "  [ 8  6  6  3  2  6]\n",
            "  [ 4  4  0  5 10  0]\n",
            "  [ 1  3  2 10  6  2]\n",
            "  [ 7  7  4  1  9 10]]\n",
            "\n",
            " [[ 3  9  3 10  2  3]\n",
            "  [ 0  3  9  6  5  6]\n",
            "  [ 4  1  4  2  3  5]\n",
            "  [ 2  9  3  5  6  3]\n",
            "  [ 4  8  8 10  9  8]\n",
            "  [ 7  1 10  2  2 10]]\n",
            "\n",
            " [[ 7  2  5  0  7  9]\n",
            "  [ 7  1  6  1  8  9]\n",
            "  [ 5  6  4  6  8 10]\n",
            "  [ 7  6  0  4  7  3]\n",
            "  [ 4 10  9  5  6  8]\n",
            "  [10  4 10  6 10  5]]\n",
            "\n",
            " [[ 0 10  2  1  9  4]\n",
            "  [ 7  4  4  9  6  2]\n",
            "  [ 6  7  1  8 10  5]\n",
            "  [ 9  8  7  7  3  4]\n",
            "  [10 10  4  8  5  6]\n",
            "  [ 5  6  7  3  2  6]]\n",
            "\n",
            " [[ 8  8  1  7  4  1]\n",
            "  [ 8  0  1 10  7  8]\n",
            "  [ 7  2  7  3  6  7]\n",
            "  [ 6  7  7  3  6  6]\n",
            "  [ 9  5  6  5  0  5]\n",
            "  [10 10  2  1  7  0]]\n",
            "\n",
            " [[ 7 10 10  3  5  9]\n",
            "  [ 9  4  2  0  8  7]\n",
            "  [ 5  5 10  7  4  4]\n",
            "  [ 0  2  6 10  7  5]\n",
            "  [ 8  1  2  1  2  8]\n",
            "  [ 0  6  2 10  4  2]]\n",
            "\n",
            " [[ 6  5  8  0  4  2]\n",
            "  [ 3  7  4  6  5  2]\n",
            "  [ 7  8  3  3  8  5]\n",
            "  [ 0  0 10  9  8  1]\n",
            "  [ 8  5  3  8  7 10]\n",
            "  [ 4 10 10  4  3  9]]]\n"
          ]
        }
      ],
      "source": [
        "# insert code here\n",
        "def load_csv_data(filename: str):\n",
        "    # open csv file, read data and save as a numpy array\n",
        "    data = pd.read_csv(filepath_or_buffer=filename, header=None).to_numpy()\n",
        "    # each row of 2D-data contains data entries of one grid, \n",
        "    # so row_size = num_cols = grid_size ^ 2\n",
        "    grid_size = int(data.shape[1] ** 0.5)\n",
        "    # reshape 2D-data into 3D-data\n",
        "    data = data.reshape(data.shape[0], grid_size, grid_size)\n",
        "\n",
        "    return data\n",
        "\n",
        "# read data from jackpots.csv\n",
        "file_data = load_csv_data('jackpots.csv')\n",
        "# output data \n",
        "print(file_data)"
      ]
    },
    {
      "cell_type": "markdown",
      "metadata": {
        "id": "VGt25BY2VC5p"
      },
      "source": [
        "# Part 4 -- Averages\n",
        "\n",
        "(15 points) Write a function that takes a 3D data structure and returns a 6x6 2D structure, where each value is the average of the hourly grid values *per machine*. Call this function using the data from Part 1; print the results."
      ]
    },
    {
      "cell_type": "code",
      "execution_count": 4,
      "metadata": {
        "id": "5uFr5EtRV664"
      },
      "outputs": [
        {
          "name": "stdout",
          "output_type": "stream",
          "text": [
            "[[5.16666667 7.33333333 3.16666667 3.33333333 4.75       4.66666667]\n",
            " [5.66666667 5.         4.5        6.75       6.08333333 4.75      ]\n",
            " [5.33333333 4.83333333 4.91666667 4.66666667 4.75       5.16666667]\n",
            " [4.41666667 5.08333333 4.5        5.91666667 6.         4.66666667]\n",
            " [6.25       4.16666667 4.5        4.83333333 6.         6.25      ]\n",
            " [6.33333333 6.16666667 6.         4.25       4.75       5.08333333]]\n"
          ]
        }
      ],
      "source": [
        "# insert code here\n",
        "def average(data: np.ndarray):\n",
        "    # collapse data by first dimension to get 12 6x6-grids, \n",
        "    # and find mean values of each collapsed entry\n",
        "    return np.mean(a=data, axis=0)\n",
        "\n",
        "# output average values of jackpots data\n",
        "jackpots_avg = average(jackpots_data)\n",
        "print(jackpots_avg)"
      ]
    },
    {
      "cell_type": "markdown",
      "metadata": {
        "id": "F9Gf9HkaWgXU"
      },
      "source": [
        "# Part 5 -- Averages (Constrained)\n",
        "\n",
        "(15 points) A coworker training you casually mentions that occurences of 0s in the jackpot hourly totals imply the machine was disabled and out of order for that hour.\n",
        "\n",
        "Write a function that takes a 3D structure and returns a 6x6 2D structure, where each value is the average of the **non-zero** hourly grid values per machine. If all hourly values for a single machine are 0, return -1 for that machine's totals.\n",
        "\n",
        "Call this function using the data from Part 1; print the results."
      ]
    },
    {
      "cell_type": "code",
      "execution_count": 5,
      "metadata": {
        "id": "j0dfprjXWjzo"
      },
      "outputs": [
        {
          "name": "stdout",
          "output_type": "stream",
          "text": [
            "[[6.2        7.33333333 3.8        5.         4.75       4.66666667]\n",
            " [6.18181818 5.45454545 4.5        7.36363636 6.08333333 5.18181818]\n",
            " [5.81818182 4.83333333 4.91666667 5.09090909 5.18181818 5.63636364]\n",
            " [5.88888889 5.54545455 5.4        5.91666667 6.         5.09090909]\n",
            " [6.25       5.         4.90909091 5.27272727 6.54545455 6.81818182]\n",
            " [6.90909091 6.16666667 6.54545455 4.25       5.7        6.1       ]]\n"
          ]
        }
      ],
      "source": [
        "# insert code here\n",
        "def constrained_average(data: np.ndarray):\n",
        "    # calculate sum of jackpots in 12 hours for each machine\n",
        "    jackpots= np.sum(a=data, axis=0)\n",
        "    # count number of hours that each machine was not out of order\n",
        "    working_hours= np.sum(a=(data!=0), axis=0)\n",
        "    # calculate average jackpots hourly for each machine when they were on,\n",
        "    # and -1 if they were disabled the whole time\n",
        "    average = []\n",
        "    for i in range(jackpots.shape[0]):\n",
        "        average.append([jackpots[i][j]/working_hours[i][j] if working_hours[i][j] != 0 \n",
        "                        else -1 for j in range(jackpots.shape[1])])\n",
        "    return np.array(average)\n",
        "\n",
        "# output the constrained average values of jackpots data\n",
        "jackpots_constr_avg = constrained_average(jackpots_data)\n",
        "print(jackpots_constr_avg)"
      ]
    },
    {
      "cell_type": "markdown",
      "metadata": {
        "id": "5oe75bJHGILd"
      },
      "source": [
        "# Part 6 -- Targeting Machines\n",
        "\n",
        "(10 points) The company is very happy with your ability to create averages of their machines' jackpots.  They instruct you to disable any machine that averaged at least 7 jackpots during the initial 12 hour period because it's \"too hot\" and to run your simulation again on the remaining machines.\n",
        "\n",
        "In other words, repeat Part 1 for another 12 hour period by creating another 3D structure of randomized results 0-10, where the \"too hot\" machines from the first simulation are also disabled and forced to appear as 0s at every hour. \n",
        "\n",
        "Show your results by printing the indices of the \"too hot\" machines and by printing the final 3D structure."
      ]
    },
    {
      "cell_type": "code",
      "execution_count": 6,
      "metadata": {
        "id": "vU-9VAS4GHrt"
      },
      "outputs": [
        {
          "name": "stdout",
          "output_type": "stream",
          "text": [
            "'Too hot' machines:\n",
            " [[0 1]\n",
            " [1 3]]\n",
            "\n",
            "New simulation:\n",
            " [[[ 1  0  7  5  3  5]\n",
            "  [10  4  1  0  1  8]\n",
            "  [ 4  9  2  0  6  9]\n",
            "  [ 6  6  6  6 10  8]\n",
            "  [ 1  7  5  8  8  7]\n",
            "  [ 6  9  5  7  3  0]]\n",
            "\n",
            " [[ 7  0 10  7  2  7]\n",
            "  [ 9  7  3  0  9  1]\n",
            "  [ 0  3  7 10  5  6]\n",
            "  [ 2  0  8  1  0  5]\n",
            "  [10  8 10  1  7  3]\n",
            "  [10  1  7  5  1  9]]\n",
            "\n",
            " [[ 2  0  5  9  6  4]\n",
            "  [ 0  5  9  0  1  3]\n",
            "  [ 3  5  6  3  9  4]\n",
            "  [ 1  4  3  3  0  0]\n",
            "  [ 4  1  9 10  9  9]\n",
            "  [ 6  5  9  1  4  1]]\n",
            "\n",
            " [[ 5  0  0  0  9  2]\n",
            "  [ 9  8  1  0  4  0]\n",
            "  [ 4  9  2  0 10  7]\n",
            "  [ 0  4  8  1  6  2]\n",
            "  [10  2  0  8  9  2]\n",
            "  [ 4  4  0  3  7  4]]\n",
            "\n",
            " [[ 2  0  9  6  4  3]\n",
            "  [ 0  1  5  0  6  5]\n",
            "  [ 1  8  6  0  0  9]\n",
            "  [ 0  1  8  6  4  5]\n",
            "  [ 3  8  1  3 10 10]\n",
            "  [ 2  0  1  3  1  4]]\n",
            "\n",
            " [[ 2  0  4  4  6 10]\n",
            "  [ 1  7  4  0  5  4]\n",
            "  [ 8 10  0  9  4  9]\n",
            "  [ 7 10  0  0  5  5]\n",
            "  [ 1 10  4  2  9  1]\n",
            "  [ 6  8  2  6 10  0]]\n",
            "\n",
            " [[ 7  0 10  7  1  2]\n",
            "  [ 0  7  6  0  4  4]\n",
            "  [ 7  2  4  9  7  1]\n",
            "  [ 5  2 10  8  1 10]\n",
            "  [ 0  5  4 10  9  7]\n",
            "  [ 4  5  6  9  6  5]]\n",
            "\n",
            " [[10  0  6  0  1  2]\n",
            "  [ 7  6  3  0  8  3]\n",
            "  [ 6 10  3  9  6  2]\n",
            "  [10  3  4  5  8  8]\n",
            "  [ 4  8  8  4  6  4]\n",
            "  [ 3  3  5  1  1  6]]\n",
            "\n",
            " [[ 7  0  6  2  2  0]\n",
            "  [ 2  0  7  0  7  1]\n",
            "  [ 2  7  6  1  4  5]\n",
            "  [ 4 10 10  2  5 10]\n",
            "  [ 3  5  8  7  9 10]\n",
            "  [ 6  6  2 10  1  0]]\n",
            "\n",
            " [[ 9  0  2  6  1  5]\n",
            "  [10  4  5  0  9  5]\n",
            "  [ 6  7  6  1  0  4]\n",
            "  [ 8  1  5  3  1  0]\n",
            "  [ 7  3  5  7  2  0]\n",
            "  [ 9  7  2  7  6  1]]\n",
            "\n",
            " [[ 1  0  6  0  7  0]\n",
            "  [ 1  2  3  0  9  9]\n",
            "  [ 3  6  1  9  9 10]\n",
            "  [10  7  1  7  1  4]\n",
            "  [10  6  7  8  7  4]\n",
            "  [ 5 10  4 10  4  2]]\n",
            "\n",
            " [[ 5  0  9  6  6  5]\n",
            "  [ 4  1 10  0  6  6]\n",
            "  [ 5  9 10  7  9  2]\n",
            "  [ 3  7  5  2  6  7]\n",
            "  [ 6  9 10  6  5  0]\n",
            "  [ 2  5  1 10 10  7]]]\n"
          ]
        }
      ],
      "source": [
        "# insert code here\n",
        "# create a 6x6 grid that stores each machine working state (1 = on, 0 = off),\n",
        "# with machines that constrained averaged at least 7 jackpots previously turn off\n",
        "working_states = np.where(jackpots_constr_avg < 7, 1, 0)\n",
        "# generate another 12-hour data with \"too hot\" machines turned off \n",
        "# using element-wise multiplication with the machine working states\n",
        "jackpots_data_2 = np.array([np.multiply(np.random.randint(0, 11, size=(6, 6)), \n",
        "                            working_states) for i in range(12)])\n",
        "# output indice of those machines that were turned off in form of [x y], \n",
        "# where x and y are the location values of each machine in the grid\n",
        "print(\"'Too hot' machines:\\n\", np.argwhere(working_states == 0))\n",
        "# output new simulation\n",
        "print(\"\\nNew simulation:\\n\", jackpots_data_2)"
      ]
    },
    {
      "cell_type": "markdown",
      "metadata": {
        "id": "2nIMI92xZ_OZ"
      },
      "source": [
        "# Part 7 -- Documentation and Correctness\n",
        "(10 points) Please document your code with human-readable messages explaining what the code is doing; at a minimum, every function and control structure should be documented.\n",
        "\n",
        "Additionally, please error check your code; partial credit will be given to answers that do not fully address the requirements. For example, if it says write a function, please make sure your code provides a function.\n",
        "\n",
        "Please make sure your submission has everything completed."
      ]
    },
    {
      "cell_type": "markdown",
      "metadata": {
        "id": "YTwc77D-53wo"
      },
      "source": [
        "# FAQ\n",
        "\n",
        "1. Can I use module XYZ? (where XYZ is my favorite module)\n",
        "\n",
        "> Yes, assuming it is publicly available by ordinary Python means (import, pip, etc).  Please do not use special modules found only on github that would require overhead in setting up.\n",
        "\n",
        "2. Can I use file format XYZ? (where XYZ is CSV, JSON, binary, etc)\n",
        "\n",
        "> Yes, use any file type you wish.  The important part is that you can write and read to/from this format consistently.\n",
        "\n",
        "3. Does my 3D structure literally have to be 3D (as verified by shape() or similar methods) or does it just need to be able to store 3D data?\n",
        "\n",
        "> It needs to store 3D data *somehow*.   Specifically, it needs to hold 12 copies of 6x6 data points.  It is up to you to design a structure capable of doing this; not every solution will use structures having nice shape() methods and that's is OK.  There are \"off the shelf\" ways of doing this, but you are free to choose what you find natural.  Use documentation to explain how your structure works."
      ]
    },
    {
      "cell_type": "markdown",
      "metadata": {
        "id": "lCRNuDMzMa93"
      },
      "source": [
        "# Review Points\n",
        "\n",
        "The below may be helpful in preparing for this assignment. The examples below are from numpy, but pandas examples would be similar in spirit."
      ]
    },
    {
      "cell_type": "code",
      "execution_count": 7,
      "metadata": {
        "id": "HFU5ApscIxb7"
      },
      "outputs": [],
      "source": [
        "# The following code generates a random 3D array of integers 0-9\n",
        "import numpy as np\n",
        "ar3 = np.random.randint(0, 10, (3, 4, 4))"
      ]
    },
    {
      "cell_type": "code",
      "execution_count": 8,
      "metadata": {
        "colab": {
          "base_uri": "https://localhost:8080/"
        },
        "id": "cfVTWxd5JpZY",
        "outputId": "516fc60b-ebd0-46cf-fd81-49c4a568808e"
      },
      "outputs": [
        {
          "name": "stdout",
          "output_type": "stream",
          "text": [
            "<class 'numpy.ndarray'>\n"
          ]
        }
      ],
      "source": [
        "# This is a numpy ndarray\n",
        "print(type(ar3))"
      ]
    },
    {
      "cell_type": "code",
      "execution_count": 9,
      "metadata": {
        "colab": {
          "base_uri": "https://localhost:8080/"
        },
        "id": "5lq-kSYDJpKI",
        "outputId": "ab52e775-d4b4-44ca-9074-bb102ed9adee"
      },
      "outputs": [
        {
          "name": "stdout",
          "output_type": "stream",
          "text": [
            "[[[3 5 3 0]\n",
            "  [0 1 7 2]\n",
            "  [8 0 0 3]\n",
            "  [1 4 9 4]]\n",
            "\n",
            " [[9 8 8 0]\n",
            "  [3 3 4 5]\n",
            "  [1 4 0 6]\n",
            "  [4 1 9 0]]\n",
            "\n",
            " [[3 0 0 9]\n",
            "  [6 1 9 8]\n",
            "  [5 8 3 9]\n",
            "  [6 3 6 2]]]\n"
          ]
        }
      ],
      "source": [
        "# The entire array is printable\n",
        "print(ar3)"
      ]
    },
    {
      "cell_type": "code",
      "execution_count": 10,
      "metadata": {
        "colab": {
          "base_uri": "https://localhost:8080/"
        },
        "id": "CkZ_a5BWJEvf",
        "outputId": "26e441cc-cdb0-427f-89e9-70adbc0f8af1"
      },
      "outputs": [
        {
          "name": "stdout",
          "output_type": "stream",
          "text": [
            "[[3 5 3 0]\n",
            " [0 1 7 2]\n",
            " [8 0 0 3]\n",
            " [1 4 9 4]]\n"
          ]
        }
      ],
      "source": [
        "# Recall that you can access data inside arrays via indexing; the 0th element is a 4x4 array.\n",
        "print(ar3[0])"
      ]
    }
  ],
  "metadata": {
    "colab": {
      "collapsed_sections": [],
      "provenance": [],
      "toc_visible": true
    },
    "kernelspec": {
      "display_name": "Python 3.10.1 64-bit",
      "language": "python",
      "name": "python3"
    },
    "language_info": {
      "codemirror_mode": {
        "name": "ipython",
        "version": 3
      },
      "file_extension": ".py",
      "mimetype": "text/x-python",
      "name": "python",
      "nbconvert_exporter": "python",
      "pygments_lexer": "ipython3",
      "version": "3.10.1"
    },
    "vscode": {
      "interpreter": {
        "hash": "369f2c481f4da34e4445cda3fffd2e751bd1c4d706f27375911949ba6bb62e1c"
      }
    }
  },
  "nbformat": 4,
  "nbformat_minor": 0
}
