{
  "cells": [
    {
      "cell_type": "markdown",
      "metadata": {
        "id": "lOasO_-uLZfM"
      },
      "source": [
        "# Programming Assignment #1 - **Python and Grid-based Gambling**\n",
        "\n",
        "100 points possible. \n",
        "\n",
        "Goal: This assignment aims to explore file input and output with a complex data structure."
      ]
    },
    {
      "cell_type": "markdown",
      "metadata": {
        "id": "NfM4QQhGNuVD"
      },
      "source": [
        "## The Setting\n",
        "\n",
        "You work for a casino that is piloting new gambling machines.  The casino has 6 rows of the new machines; each row contains 6 machines. Each machine in this 6x6 grid will allow a no more than 10 jackpot prizes per hour.\n",
        "\n",
        "The casino asks you to monitor and log the machines over time; this requires various tasks outlined in the sections below."
      ]
    },
    {
      "cell_type": "markdown",
      "metadata": {
        "id": "Mt5YJJ_-Lw5B"
      },
      "source": [
        "# Part 0 -- Submission Details\n",
        "\n",
        "\n",
        "(10 points) Please enter your name and the date below. Submit your answers as a completed notebook by the deadline posted on Canvas.  Late submissions will not get credit for this section.\n",
        "\n",
        "Name: Duong Hoang\n",
        "\n",
        "Date: 09/15/2022\n"
      ]
    },
    {
      "cell_type": "markdown",
      "metadata": {
        "id": "qLWAuTo-RneR"
      },
      "source": [
        "# Part 1 -- Create\n",
        "\n",
        "(10 points)  You've been asked to simulate **12 hours** of data collection, where the number of each machine's **jackpots per hour** are recorded.\n",
        "\n",
        "Create a 3D structure capable of storing the hourly totals for each machine in the 6x6 grid; fill this structure with random integer values between 0 and 10 (inclusive) to indicate how many jackpots per machine happened.\n",
        "\n",
        "Your 3D data structure should be able to hold 12 copies of 6x6 values. Print your structure."
      ]
    },
    {
      "cell_type": "code",
      "execution_count": null,
      "metadata": {
        "id": "nUejFC9RTNaA"
      },
      "outputs": [],
      "source": [
        "# insert code here"
      ]
    },
    {
      "cell_type": "markdown",
      "metadata": {
        "id": "_tKrDDQISYYf"
      },
      "source": [
        "# Part 2 -- Write to File\n",
        "\n",
        "(15 points) Write a function that takes (1) a filename and (2) a 3D data structure; this function should write the contents of the 3D structure to the specified file. Use any file format or any module you wish.  Run your function with an appropriate filename and the 3D structure from Part #1."
      ]
    },
    {
      "cell_type": "code",
      "execution_count": null,
      "metadata": {
        "id": "EuxeM8ArNyW-"
      },
      "outputs": [],
      "source": [
        "# insert code here"
      ]
    },
    {
      "cell_type": "markdown",
      "metadata": {
        "id": "8WXbVVeGT8BK"
      },
      "source": [
        "# Part 3 -- Read from File\n",
        "\n",
        "(15 points) Write a function that takes a filename, opens it, and returns the 3D structure saved inside the specified file.  Call your function using the filename from Part 2 and save the results into a new variable. Print the contents of this variable. \n",
        "\n",
        "In other words, your function should open what your function in Part 2 has saved."
      ]
    },
    {
      "cell_type": "code",
      "execution_count": null,
      "metadata": {
        "id": "1H4ZE8irT7ef"
      },
      "outputs": [],
      "source": [
        "# insert code here"
      ]
    },
    {
      "cell_type": "markdown",
      "metadata": {
        "id": "VGt25BY2VC5p"
      },
      "source": [
        "# Part 4 -- Averages\n",
        "\n",
        "(15 points) Write a function that takes a 3D data structure and returns a 6x6 2D structure, where each value is the average of the hourly grid values *per machine*. Call this function using the data from Part 1; print the results."
      ]
    },
    {
      "cell_type": "code",
      "execution_count": null,
      "metadata": {
        "id": "5uFr5EtRV664"
      },
      "outputs": [],
      "source": [
        "# insert code here"
      ]
    },
    {
      "cell_type": "markdown",
      "metadata": {
        "id": "F9Gf9HkaWgXU"
      },
      "source": [
        "# Part 5 -- Averages (Constrained)\n",
        "\n",
        "(15 points) A coworker training you casually mentions that occurences of 0s in the jackpot hourly totals imply the machine was disabled and out of order for that hour.\n",
        "\n",
        "Write a function that takes a 3D structure and returns a 6x6 2D structure, where each value is the average of the **non-zero** hourly grid values per machine. If all hourly values for a single machine are 0, return -1 for that machine's totals.\n",
        "\n",
        "Call this function using the data from Part 1; print the results."
      ]
    },
    {
      "cell_type": "code",
      "execution_count": null,
      "metadata": {
        "id": "j0dfprjXWjzo"
      },
      "outputs": [],
      "source": [
        "# insert code here"
      ]
    },
    {
      "cell_type": "markdown",
      "metadata": {
        "id": "5oe75bJHGILd"
      },
      "source": [
        "# Part 6 -- Targeting Machines\n",
        "\n",
        "(10 points) The company is very happy with your ability to create averages of their machines' jackpots.  They instruct you to disable any machine that averaged at least 7 jackpots during the initial 12 hour period because it's \"too hot\" and to run your simulation again on the remaining machines.\n",
        "\n",
        "In other words, repeat Part 2 for another 12 hour period by creating another 3D structure of randomized results 0-10, where the \"too hot\" machines from the first simulation are also disabled and forced to appear as 0s at every hour. \n",
        "\n",
        "Show your results by printing the indices of the \"too hot\" machines and by printing the final 3D structure."
      ]
    },
    {
      "cell_type": "code",
      "execution_count": null,
      "metadata": {
        "id": "vU-9VAS4GHrt"
      },
      "outputs": [],
      "source": [
        "# insert code here"
      ]
    },
    {
      "cell_type": "markdown",
      "metadata": {
        "id": "2nIMI92xZ_OZ"
      },
      "source": [
        "# Part 7 -- Documentation and Correctness\n",
        "(10 points) Please document your code with human-readable messages explaining what the code is doing; at a minimum, every function and control structure should be documented.\n",
        "\n",
        "Additionally, please error check your code; partial credit will be given to answers that do not fully address the requirements. For example, if it says write a function, please make sure your code provides a function.\n",
        "\n",
        "Please make sure your submission has everything completed."
      ]
    },
    {
      "cell_type": "markdown",
      "metadata": {
        "id": "YTwc77D-53wo"
      },
      "source": [
        "# FAQ\n",
        "\n",
        "1. Can I use module XYZ? (where XYZ is my favorite module)\n",
        "\n",
        "> Yes, assuming it is publicly available by ordinary Python means (import, pip, etc).  Please do not use special modules found only on github that would require overhead in setting up.\n",
        "\n",
        "\n"
      ]
    },
    {
      "cell_type": "markdown",
      "metadata": {
        "id": "lCRNuDMzMa93"
      },
      "source": [
        "# Review Points\n",
        "\n",
        "The below may be helpful in preparing for this assignment. The examples below are from numpy, but pandas examples would be similar in spirit."
      ]
    },
    {
      "cell_type": "code",
      "execution_count": null,
      "metadata": {
        "id": "HFU5ApscIxb7"
      },
      "outputs": [],
      "source": [
        "# The following code generates a random 3D array of integers 0-9\n",
        "import numpy as np\n",
        "ar3 = np.random.randint(0, 10, (3, 4, 4))"
      ]
    },
    {
      "cell_type": "code",
      "execution_count": null,
      "metadata": {
        "colab": {
          "base_uri": "https://localhost:8080/"
        },
        "id": "cfVTWxd5JpZY",
        "outputId": "516fc60b-ebd0-46cf-fd81-49c4a568808e"
      },
      "outputs": [
        {
          "name": "stdout",
          "output_type": "stream",
          "text": [
            "<class 'numpy.ndarray'>\n"
          ]
        }
      ],
      "source": [
        "# This is a numpy ndarray\n",
        "print(type(ar3))"
      ]
    },
    {
      "cell_type": "code",
      "execution_count": null,
      "metadata": {
        "colab": {
          "base_uri": "https://localhost:8080/"
        },
        "id": "5lq-kSYDJpKI",
        "outputId": "ab52e775-d4b4-44ca-9074-bb102ed9adee"
      },
      "outputs": [
        {
          "name": "stdout",
          "output_type": "stream",
          "text": [
            "[[[4 2 7 9]\n",
            "  [6 8 6 1]\n",
            "  [5 1 8 2]\n",
            "  [4 3 6 4]]\n",
            "\n",
            " [[8 9 8 6]\n",
            "  [8 5 6 4]\n",
            "  [0 2 8 6]\n",
            "  [3 6 2 0]]\n",
            "\n",
            " [[1 4 4 6]\n",
            "  [2 1 7 4]\n",
            "  [9 5 0 2]\n",
            "  [8 8 1 3]]]\n"
          ]
        }
      ],
      "source": [
        "# The entire array is printable\n",
        "print(ar3)"
      ]
    },
    {
      "cell_type": "code",
      "execution_count": null,
      "metadata": {
        "colab": {
          "base_uri": "https://localhost:8080/"
        },
        "id": "CkZ_a5BWJEvf",
        "outputId": "26e441cc-cdb0-427f-89e9-70adbc0f8af1"
      },
      "outputs": [
        {
          "name": "stdout",
          "output_type": "stream",
          "text": [
            "[[4 2 7 9]\n",
            " [6 8 6 1]\n",
            " [5 1 8 2]\n",
            " [4 3 6 4]]\n"
          ]
        }
      ],
      "source": [
        "# Recall that you can access data inside arrays via indexing; the 0th element is a 4x4 array.\n",
        "print(ar3[0])"
      ]
    }
  ],
  "metadata": {
    "colab": {
      "collapsed_sections": [],
      "provenance": []
    },
    "kernelspec": {
      "display_name": "Python 3.8.9 64-bit",
      "language": "python",
      "name": "python3"
    },
    "language_info": {
      "codemirror_mode": {
        "name": "ipython",
        "version": 3
      },
      "file_extension": ".py",
      "mimetype": "text/x-python",
      "name": "python",
      "nbconvert_exporter": "python",
      "pygments_lexer": "ipython3",
      "version": "3.8.9"
    },
    "vscode": {
      "interpreter": {
        "hash": "31f2aee4e71d21fbe5cf8b01ff0e069b9275f58929596ceb00d14d90e3e16cd6"
      }
    }
  },
  "nbformat": 4,
  "nbformat_minor": 0
}
