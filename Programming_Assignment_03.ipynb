{
  "nbformat": 4,
  "nbformat_minor": 0,
  "metadata": {
    "colab": {
      "provenance": [],
      "collapsed_sections": []
    },
    "kernelspec": {
      "name": "python3",
      "display_name": "Python 3"
    },
    "language_info": {
      "name": "python"
    }
  },
  "cells": [
    {
      "cell_type": "markdown",
      "source": [
        "## Programming Assignment #3\n",
        "\n",
        "**Hogwarts Data Cleaning**\n",
        "\n",
        "100 points possible.\n",
        "\n",
        "This assignment asks you to perform specific data cleaning tasks."
      ],
      "metadata": {
        "id": "lOasO_-uLZfM"
      }
    },
    {
      "cell_type": "markdown",
      "source": [
        "# The Setting -- The Return to Hogwarts\n",
        "\n",
        "Being a wizard can be dangerous. Being a wizard in training can be even more dangerous. The Hogwarts school nurse is a very busy person and records their activity in a log.\n",
        "\n",
        "You are asked to review a sample of the logs from the nurse's office of Hogwarts and to **clean** these logs for analysis later on.  Please perform these parts **in order** as earlier steps may impact later steps.\n",
        "\n",
        "Note: in class, we saw that there were a wide variety of issues with the data file.  This assignment asks you to programmatically clean data quality issues on **a specific subset of the of the issues** identified in class. You do not have to resolve all issues in the file, only those described below."
      ],
      "metadata": {
        "id": "9bZ-x9euLD9_"
      }
    },
    {
      "cell_type": "markdown",
      "metadata": {
        "id": "UNSIV2pP6dJL"
      },
      "source": [
        "# Part 0 -- Submission Details\n",
        "\n",
        "\n",
        "(10 points) Please enter your name and the date below. Submit your answers as a completed notebook by the deadline posted on Canvas.  Late submissions will not get credit for this section.\n",
        "\n",
        "Name:\n",
        "\n",
        "Date:\n"
      ]
    },
    {
      "cell_type": "markdown",
      "source": [
        "# Part 1 -- Create New Test Cases\n",
        "\n",
        "(10 points) Review the original data and the data quality tasks below.  Design 10 test records (rows of patient visits) to insert into the original data.  You can manually develop these by modifying the original file or use Python in some capacity to generate them. If you modify the original file, please submit your modified file with your submission.\n",
        "\n",
        "In plain english, explain how your test records will help test the data quality tasks. What makes them good test cases?"
      ],
      "metadata": {
        "id": "OvdER_ka0ywR"
      }
    },
    {
      "cell_type": "markdown",
      "source": [
        "**Answer: add discussion here.**"
      ],
      "metadata": {
        "id": "R4z_5JIA11KI"
      }
    },
    {
      "cell_type": "code",
      "source": [
        "# insert code (if applicable)"
      ],
      "metadata": {
        "id": "ggmN6vp715mf"
      },
      "execution_count": null,
      "outputs": []
    },
    {
      "cell_type": "markdown",
      "source": [
        "#Part 2 -- Create\n",
        "\n",
        "(5 points) Load the original data and your new test cases into the same Python structure (of your choice).\n",
        "\n"
      ],
      "metadata": {
        "id": "V2qKhuvALpIh"
      }
    },
    {
      "cell_type": "code",
      "source": [
        "# insert code here"
      ],
      "metadata": {
        "id": "xUXWetgbWx-F"
      },
      "execution_count": null,
      "outputs": []
    },
    {
      "cell_type": "markdown",
      "source": [
        "# Part 3 -- Missing Data for Time Spent\n",
        "\n",
        "(5 points) Drop all rows with missing values for the time_spent column.  Print your data to verify your changes.\n"
      ],
      "metadata": {
        "id": "pudJ8kZQMuvs"
      }
    },
    {
      "cell_type": "code",
      "source": [
        "# insert code here"
      ],
      "metadata": {
        "id": "SK6mKpuKvE6K"
      },
      "execution_count": null,
      "outputs": []
    },
    {
      "cell_type": "markdown",
      "source": [
        "# Part 4 -- Range checking for Height\n",
        "\n",
        "(10 points) Drop all rows with values larger than 250 for height (slightly larger than the world record for tallest person). Print your data to verify your changes.\n"
      ],
      "metadata": {
        "id": "4YjUZ5bGvGbL"
      }
    },
    {
      "cell_type": "code",
      "source": [
        "# insert code here"
      ],
      "metadata": {
        "id": "nPOI-8cwvDjN"
      },
      "execution_count": null,
      "outputs": []
    },
    {
      "cell_type": "markdown",
      "source": [
        "# Part 5 -- Missing Data for Supplies Used\n",
        "\n",
        "(10 points)  For the supplies used column, replace (1) all missing values, (2) all negative values, and (3) all values over 100 (exclusive). Replace with the **mean** value for supplies used; restrict your mean calculation using non-missing, non-negative values from the *supplies_used* column that are less than or equal to 100. Print your data to verify your changes.\n"
      ],
      "metadata": {
        "id": "mEYmdxUdunJR"
      }
    },
    {
      "cell_type": "code",
      "source": [
        "# insert code here"
      ],
      "metadata": {
        "id": "ZBKACQ5pL6U7"
      },
      "execution_count": null,
      "outputs": []
    },
    {
      "cell_type": "markdown",
      "source": [
        "#Part 6 -- Normalize Time Spent\n",
        "\n",
        "(15 points) Add two columns to your data structure by splitting the *time_spent* column. Split this into two columns named *time_spent* and *time_spent_unit*, where the number value is stored into *time_spent* and the description of the unit (minutes, hours, etc) is stored in *time_spent_unit*.  \n",
        "\n",
        "Furthermore, convert any values with hours as units into minutes as units and correct any typos of minute to minutes. Print your data to verify your changes.\n",
        "\n"
      ],
      "metadata": {
        "id": "j664nGvDz9Bn"
      }
    },
    {
      "cell_type": "code",
      "source": [
        "# insert code here"
      ],
      "metadata": {
        "id": "5e8eds_Aupij"
      },
      "execution_count": null,
      "outputs": []
    },
    {
      "cell_type": "markdown",
      "source": [
        "# Part 7 -- Replace Bad Dates\n",
        "\n",
        "(5 points) Replace any bad dates (missing, impossible dates, poorly formated, etc) with a date representing January 1st, 1994. Print your data to verify your changes.\n"
      ],
      "metadata": {
        "id": "MB0plvPtNcJj"
      }
    },
    {
      "cell_type": "code",
      "source": [
        "# insert code here"
      ],
      "metadata": {
        "id": "M8I8pVsfMuKk"
      },
      "execution_count": null,
      "outputs": []
    },
    {
      "cell_type": "markdown",
      "source": [
        "#Part 8 -- Consistency of IDs\n",
        "\n",
        "(10 points) Replace any inconsistent medical record numbers with the most commonly occurring medical record number for each first/last name combination (ignoring case). For example, 015689 was inconsistent with Potter's other IDs and would become 015685."
      ],
      "metadata": {
        "id": "VFkZIVEG8D3P"
      }
    },
    {
      "cell_type": "code",
      "source": [
        "# insert code here"
      ],
      "metadata": {
        "id": "vdhbpr6q8zJP"
      },
      "execution_count": null,
      "outputs": []
    },
    {
      "cell_type": "markdown",
      "source": [
        "# Part 9 -- Calculate Aggregates, Part 1\n",
        "\n",
        "(5 points) Use your cleaned data to calculate the mean time spent (in minutes) for all records. Print this value.\n",
        "\n"
      ],
      "metadata": {
        "id": "6FFcl2Lm2Q5t"
      }
    },
    {
      "cell_type": "code",
      "source": [
        "# insert code here"
      ],
      "metadata": {
        "id": "7foNwnTaUQ85"
      },
      "execution_count": null,
      "outputs": []
    },
    {
      "cell_type": "markdown",
      "source": [
        "# Part 10 -- Calculate Aggregates, Part 2\n",
        "\n",
        "(5 points) Use your cleaned data to find the month in 1994 with the largest amount of time spent logged by the nurse. Print this value.  \n",
        "\n",
        "Leave as a comment any lingering data quality concerns you might have in reporting aggregate monthly values back to Hogwarts administration."
      ],
      "metadata": {
        "id": "kP6_S8ni6l-w"
      }
    },
    {
      "cell_type": "code",
      "source": [
        "# insert code here"
      ],
      "metadata": {
        "id": "5Y9hz7xJ7OXw"
      },
      "execution_count": null,
      "outputs": []
    },
    {
      "cell_type": "markdown",
      "source": [
        "#Part 11 -- Documentation and Correctness\n",
        "(10 points) Please document your code with human-readable messages explaining what the code is doing; at a minimum, every function and control structure should be documented.  If your response is a 1-liner, explain how it works.\n",
        "\n",
        "Additionally, please error check your code; partial credit will be given to answers that do not fully address the requirements. For example, if it says write a function, please make sure your code provides a function.\n",
        "\n",
        "Please make sure your submission has everything completed.\n",
        "\n",
        "**If you modified the original data file, please submit your updated file too.** If you used Python to generate test cases and simply running your code loads the new test cases, you do not need to upload the original data file."
      ],
      "metadata": {
        "id": "2nIMI92xZ_OZ"
      }
    }
  ]
}