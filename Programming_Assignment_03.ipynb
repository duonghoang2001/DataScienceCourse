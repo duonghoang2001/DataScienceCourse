{
  "cells": [
    {
      "cell_type": "markdown",
      "metadata": {
        "id": "lOasO_-uLZfM"
      },
      "source": [
        "## Programming Assignment #3\n",
        "\n",
        "**Hogwarts Data Cleaning**\n",
        "\n",
        "100 points possible.\n",
        "\n",
        "This assignment asks you to perform specific data cleaning tasks."
      ]
    },
    {
      "cell_type": "markdown",
      "metadata": {
        "id": "9bZ-x9euLD9_"
      },
      "source": [
        "# The Setting -- The Return to Hogwarts\n",
        "\n",
        "Being a wizard can be dangerous. Being a wizard in training can be even more dangerous. The Hogwarts school nurse is a very busy person and records their activity in a log.\n",
        "\n",
        "You are asked to review a sample of the logs from the nurse's office of Hogwarts and to **clean** these logs for analysis later on.  Please perform these parts **in order** as earlier steps may impact later steps.\n",
        "\n",
        "Note: in class, we saw that there were a wide variety of issues with the data file.  This assignment asks you to programmatically clean data quality issues on **a specific subset of the of the issues** identified in class. You do not have to resolve all issues in the file, only those described below."
      ]
    },
    {
      "cell_type": "markdown",
      "metadata": {
        "id": "UNSIV2pP6dJL"
      },
      "source": [
        "# Part 0 -- Submission Details\n",
        "\n",
        "\n",
        "(10 points) Please enter your name and the date below. Submit your answers as a completed notebook by the deadline posted on Canvas.  Late submissions will not get credit for this section.\n",
        "\n",
        "Name: Duong Hoang\n",
        "\n",
        "Date: 10/13/2022\n"
      ]
    },
    {
      "cell_type": "markdown",
      "metadata": {
        "id": "OvdER_ka0ywR"
      },
      "source": [
        "# Part 1 -- Create New Test Cases\n",
        "\n",
        "(10 points) Review the original data and the data quality tasks below.  Design 10 test records (rows of patient visits) to insert into the original data.  You can manually develop these by modifying the original file or use Python in some capacity to generate them. If you modify the original file, please submit your modified file with your submission.\n",
        "\n",
        "In plain english, explain how your test records will help test the data quality tasks. What makes them good test cases?"
      ]
    },
    {
      "cell_type": "markdown",
      "metadata": {
        "id": "R4z_5JIA11KI"
      },
      "source": [
        "**Answer: Each of the test cases is designed to have some kind of bad data to trigger the functions belows. All of the missing data are intentional to test whether the functions would modify the data as expected. Most of the test cases are based off the existing data with the hope to correct some of those bad data with the functions.**"
      ]
    },
    {
      "cell_type": "code",
      "execution_count": 1,
      "metadata": {
        "id": "ggmN6vp715mf"
      },
      "outputs": [],
      "source": [
        "# insert code (if applicable)\n",
        "import pandas as pd\n",
        "import numpy as np\n",
        "\n",
        "new_records = [\n",
        "    ['015685', 'Harry', 'Potter', '9870', '10-17-1994', '0.25 hours', '174', '57', '15.24', '1'],\n",
        "    ['051627', 'Albus', 'Dumbledore', '9871', '10-17-1994', '20 minutes', '185', '73', '9.52', '2'],\n",
        "    ['051672', 'Albus', 'dumbledore', '9872', '10-29-1994', '8 minute', '185', '73', '0', '0'],\n",
        "    ['', 'Harry', 'Potter', '9873', '11-02-1994', '23 minutes', '174', '57', '10', ''],\n",
        "    ['0145', 'hermione', 'granger', '9874', '11-04-1994', '1 hours', '164', '53', '30.02', '5'],\n",
        "    ['07619', 'rOn', 'Weasley', '9875', '11-04-1994', '5 minute', '180', '60', '3.99', '1'],\n",
        "    ['01234', 'Ron', 'Weasley', '9876', '', '20 minutes', '180', '60', '16.23', '4'],\n",
        "    ['', 'Dobby', '', '9877', '1994-11-10', '0.75 hours', '106', '25', '6.98', '2'],\n",
        "    ['037493', 'Rubeus', 'Hagrid', '9878', '12-12-1994', '12 minutes', '259', '132', '4.23', '1'],\n",
        "    ['053422', 'Serverus', 'Snape', '9879', '1994-12-32', '17 minute', '185', '82', '0', '0']]"
      ]
    },
    {
      "cell_type": "markdown",
      "metadata": {
        "id": "V2qKhuvALpIh"
      },
      "source": [
        "#Part 2 -- Create\n",
        "\n",
        "(5 points) Load the original data and your new test cases into the same Python structure (of your choice).\n",
        "\n"
      ]
    },
    {
      "cell_type": "code",
      "execution_count": 2,
      "metadata": {
        "id": "xUXWetgbWx-F"
      },
      "outputs": [],
      "source": [
        "# insert code here\n",
        "# read data from file\n",
        "nurse_data = pd.read_csv('nurse-log.csv', dtype=str)\n",
        "# insert new data to the same column set\n",
        "new_data = pd.DataFrame(new_records, columns=nurse_data.columns).replace(r'^\\s*$', np.nan, regex=True)\n",
        "nurse_data = pd.concat([nurse_data, new_data], ignore_index=True, sort=False)\n",
        "# convert height, weight, charge, and number of supplies used to corresponding numeric data\n",
        "nurse_data['height(cm)'] = pd.to_numeric(nurse_data['height(cm)'], downcast='unsigned', errors='coerce')\n",
        "nurse_data['weight(kg)'] = pd.to_numeric(nurse_data['weight(kg)'], downcast='unsigned', errors='coerce')\n",
        "nurse_data['charge'] = pd.to_numeric(nurse_data['charge'], errors='coerce')\n",
        "nurse_data['supplies_used'] = pd.to_numeric(nurse_data['supplies_used'], downcast='unsigned', errors='coerce')"
      ]
    },
    {
      "cell_type": "markdown",
      "metadata": {
        "id": "pudJ8kZQMuvs"
      },
      "source": [
        "# Part 3 -- Missing Data for Time Spent\n",
        "\n",
        "(5 points) Drop all rows with missing values for the time_spent column.  Print your data to verify your changes.\n"
      ]
    },
    {
      "cell_type": "code",
      "execution_count": 3,
      "metadata": {
        "id": "SK6mKpuKvE6K"
      },
      "outputs": [
        {
          "name": "stdout",
          "output_type": "stream",
          "text": [
            "   medical_record_number first_name   last_name visit_id        date  \\\n",
            "0                 015685      Harry      Potter     8219  06-05-1994   \n",
            "1                  07619        Ron     Weasley     7512  01-15-1994   \n",
            "2                 014593   Hermione     Granger     5896  01-25-1994   \n",
            "3                 015685      Harry      Potter     1552  1994-02-15   \n",
            "4                 015685      Harry      Potter     1202  05-19-1994   \n",
            "5                  08954      Dobby         NaN     1205  03-12-1994   \n",
            "6                  07619        Ron     Weasley     6895  04-05-1994   \n",
            "7                 015689      Harry      Potter     6854  10-11-1994   \n",
            "8                  07619        Ron     Weasley     1265  07-08-1994   \n",
            "9                    NaN   Serverus       Snape     5454  09-12-1994   \n",
            "10                015685        Ron     Weasley     2369  09-31-1994   \n",
            "11                015685      Harry      Potter     9852  10-16-1994   \n",
            "12                 07619        Ron     Weasley     7512  01-15-1994   \n",
            "13                021456    Neville  Longbottom     5789         NaN   \n",
            "14                 07619        Ron     Weasley     9861  07-08-1994   \n",
            "15                051627      Albus  Dumbledore     5862  08-19-1994   \n",
            "16                015685      harry      potter     5698  06-19-1994   \n",
            "17                014593   Hermione     Granger     1535  10-07-1994   \n",
            "18                015685        NaN      Potter     8597  15-05-1994   \n",
            "19                051627      Albus  Dumbledore     3666  05-07-1994   \n",
            "20                 07619        Ron     Weasley     7512  01-15-1994   \n",
            "21                015685      Harry      Potter     9870  10-17-1994   \n",
            "22                051627      Albus  Dumbledore     9871  10-17-1994   \n",
            "23                051672      Albus  dumbledore     9872  10-29-1994   \n",
            "24                   NaN      Harry      Potter     9873  11-02-1994   \n",
            "25                  0145   hermione     granger     9874  11-04-1994   \n",
            "26                 07619        rOn     Weasley     9875  11-04-1994   \n",
            "27                 01234        Ron     Weasley     9876         NaN   \n",
            "28                   NaN      Dobby         NaN     9877  1994-11-10   \n",
            "29                037493     Rubeus      Hagrid     9878  12-12-1994   \n",
            "30                053422   Serverus       Snape     9879  1994-12-32   \n",
            "\n",
            "    time_spent  height(cm)  weight(kg)  charge  supplies_used  \n",
            "0   20 minutes       174.0          57   25.72            5.0  \n",
            "1   10 minutes       180.0          60    7.16            2.0  \n",
            "2   20 minutes       164.0          53    8.85            1.0  \n",
            "3    5 minutes       174.0          58   25.72            3.0  \n",
            "4   20 minutes       174.0          55   25.72            3.0  \n",
            "5   10 minutes       106.0          25   17.42            0.0  \n",
            "6     .5 hours         NaN          60   22.07            5.0  \n",
            "7    20 minute        57.0         174   18.09            5.0  \n",
            "8   15 minutes       180.0          61   15.24            1.0  \n",
            "9   10 minutes       185.0          82    0.00            0.0  \n",
            "10  20 minutes       180.0          59   18.02            3.0  \n",
            "11  20 minutes       174.0          55   19.84            6.0  \n",
            "12  10 minutes       180.0          60   22.17           10.0  \n",
            "13  10 minutes       182.0          76   25.72            NaN  \n",
            "14   7 minutes       180.0          60   19.19            5.0  \n",
            "15  15 minutes       185.0          73    9.75            0.0  \n",
            "16  10 minutes       174.0          58    5.23            1.0  \n",
            "17  20 minutes       164.0          53   30.75           10.0  \n",
            "18  15 minutes       174.0          58   42.67           15.0  \n",
            "19  10 minutes      1855.0          73   19.85         8000.0  \n",
            "20  10 minutes       180.0          60   22.17           10.0  \n",
            "21  0.25 hours       174.0          57   15.24            1.0  \n",
            "22  20 minutes       185.0          73    9.52            2.0  \n",
            "23    8 minute       185.0          73    0.00            0.0  \n",
            "24  23 minutes       174.0          57   10.00            NaN  \n",
            "25     1 hours       164.0          53   30.02            5.0  \n",
            "26    5 minute       180.0          60    3.99            1.0  \n",
            "27  20 minutes       180.0          60   16.23            4.0  \n",
            "28  0.75 hours       106.0          25    6.98            2.0  \n",
            "29  12 minutes       259.0         132    4.23            1.0  \n",
            "30   17 minute       185.0          82    0.00            0.0  \n"
          ]
        }
      ],
      "source": [
        "# insert code here\n",
        "# drop all rows where time_spent entries are na \n",
        "nurse_data.dropna(subset=['time_spent'], inplace=True)\n",
        "nurse_data.reset_index(drop=True, inplace=True)\n",
        "# display dataset after dropping\n",
        "print(nurse_data)"
      ]
    },
    {
      "cell_type": "markdown",
      "metadata": {
        "id": "4YjUZ5bGvGbL"
      },
      "source": [
        "# Part 4 -- Range checking for Height\n",
        "\n",
        "(10 points) Drop all rows with values larger than 250 for height (slightly larger than the world record for tallest person). Print your data to verify your changes.\n"
      ]
    },
    {
      "cell_type": "code",
      "execution_count": 4,
      "metadata": {
        "id": "nPOI-8cwvDjN"
      },
      "outputs": [
        {
          "name": "stdout",
          "output_type": "stream",
          "text": [
            "   medical_record_number first_name   last_name visit_id        date  \\\n",
            "0                 015685      Harry      Potter     8219  06-05-1994   \n",
            "1                  07619        Ron     Weasley     7512  01-15-1994   \n",
            "2                 014593   Hermione     Granger     5896  01-25-1994   \n",
            "3                 015685      Harry      Potter     1552  1994-02-15   \n",
            "4                 015685      Harry      Potter     1202  05-19-1994   \n",
            "5                  08954      Dobby         NaN     1205  03-12-1994   \n",
            "6                  07619        Ron     Weasley     6895  04-05-1994   \n",
            "7                 015689      Harry      Potter     6854  10-11-1994   \n",
            "8                  07619        Ron     Weasley     1265  07-08-1994   \n",
            "9                    NaN   Serverus       Snape     5454  09-12-1994   \n",
            "10                015685        Ron     Weasley     2369  09-31-1994   \n",
            "11                015685      Harry      Potter     9852  10-16-1994   \n",
            "12                 07619        Ron     Weasley     7512  01-15-1994   \n",
            "13                021456    Neville  Longbottom     5789         NaN   \n",
            "14                 07619        Ron     Weasley     9861  07-08-1994   \n",
            "15                051627      Albus  Dumbledore     5862  08-19-1994   \n",
            "16                015685      harry      potter     5698  06-19-1994   \n",
            "17                014593   Hermione     Granger     1535  10-07-1994   \n",
            "18                015685        NaN      Potter     8597  15-05-1994   \n",
            "19                 07619        Ron     Weasley     7512  01-15-1994   \n",
            "20                015685      Harry      Potter     9870  10-17-1994   \n",
            "21                051627      Albus  Dumbledore     9871  10-17-1994   \n",
            "22                051672      Albus  dumbledore     9872  10-29-1994   \n",
            "23                   NaN      Harry      Potter     9873  11-02-1994   \n",
            "24                  0145   hermione     granger     9874  11-04-1994   \n",
            "25                 07619        rOn     Weasley     9875  11-04-1994   \n",
            "26                 01234        Ron     Weasley     9876         NaN   \n",
            "27                   NaN      Dobby         NaN     9877  1994-11-10   \n",
            "28                053422   Serverus       Snape     9879  1994-12-32   \n",
            "\n",
            "    time_spent  height(cm)  weight(kg)  charge  supplies_used  \n",
            "0   20 minutes       174.0          57   25.72            5.0  \n",
            "1   10 minutes       180.0          60    7.16            2.0  \n",
            "2   20 minutes       164.0          53    8.85            1.0  \n",
            "3    5 minutes       174.0          58   25.72            3.0  \n",
            "4   20 minutes       174.0          55   25.72            3.0  \n",
            "5   10 minutes       106.0          25   17.42            0.0  \n",
            "6     .5 hours         NaN          60   22.07            5.0  \n",
            "7    20 minute        57.0         174   18.09            5.0  \n",
            "8   15 minutes       180.0          61   15.24            1.0  \n",
            "9   10 minutes       185.0          82    0.00            0.0  \n",
            "10  20 minutes       180.0          59   18.02            3.0  \n",
            "11  20 minutes       174.0          55   19.84            6.0  \n",
            "12  10 minutes       180.0          60   22.17           10.0  \n",
            "13  10 minutes       182.0          76   25.72            NaN  \n",
            "14   7 minutes       180.0          60   19.19            5.0  \n",
            "15  15 minutes       185.0          73    9.75            0.0  \n",
            "16  10 minutes       174.0          58    5.23            1.0  \n",
            "17  20 minutes       164.0          53   30.75           10.0  \n",
            "18  15 minutes       174.0          58   42.67           15.0  \n",
            "19  10 minutes       180.0          60   22.17           10.0  \n",
            "20  0.25 hours       174.0          57   15.24            1.0  \n",
            "21  20 minutes       185.0          73    9.52            2.0  \n",
            "22    8 minute       185.0          73    0.00            0.0  \n",
            "23  23 minutes       174.0          57   10.00            NaN  \n",
            "24     1 hours       164.0          53   30.02            5.0  \n",
            "25    5 minute       180.0          60    3.99            1.0  \n",
            "26  20 minutes       180.0          60   16.23            4.0  \n",
            "27  0.75 hours       106.0          25    6.98            2.0  \n",
            "28   17 minute       185.0          82    0.00            0.0  \n"
          ]
        }
      ],
      "source": [
        "# insert code here\n",
        "# get indices of rows where height entries are greater than 250\n",
        "outlier_height_ind = nurse_data[(nurse_data['height(cm)'] > 250)].index\n",
        "# remove those rows from dataset\n",
        "nurse_data.drop(outlier_height_ind, inplace=True)\n",
        "nurse_data.reset_index(drop=True, inplace=True)\n",
        "# display dataset after dropping\n",
        "print(nurse_data)"
      ]
    },
    {
      "cell_type": "markdown",
      "metadata": {
        "id": "mEYmdxUdunJR"
      },
      "source": [
        "# Part 5 -- Missing Data for Supplies Used\n",
        "\n",
        "(10 points)  For the supplies used column, replace (1) all missing values, (2) all negative values, and (3) all values over 100 (exclusive). Replace with the **mean** value for supplies used; restrict your mean calculation using non-missing, non-negative values from the *supplies_used* column that are less than or equal to 100. Print your data to verify your changes.\n"
      ]
    },
    {
      "cell_type": "code",
      "execution_count": 5,
      "metadata": {
        "id": "ZBKACQ5pL6U7"
      },
      "outputs": [
        {
          "name": "stdout",
          "output_type": "stream",
          "text": [
            "   medical_record_number first_name   last_name visit_id        date  \\\n",
            "0                 015685      Harry      Potter     8219  06-05-1994   \n",
            "1                  07619        Ron     Weasley     7512  01-15-1994   \n",
            "2                 014593   Hermione     Granger     5896  01-25-1994   \n",
            "3                 015685      Harry      Potter     1552  1994-02-15   \n",
            "4                 015685      Harry      Potter     1202  05-19-1994   \n",
            "5                  08954      Dobby         NaN     1205  03-12-1994   \n",
            "6                  07619        Ron     Weasley     6895  04-05-1994   \n",
            "7                 015689      Harry      Potter     6854  10-11-1994   \n",
            "8                  07619        Ron     Weasley     1265  07-08-1994   \n",
            "9                    NaN   Serverus       Snape     5454  09-12-1994   \n",
            "10                015685        Ron     Weasley     2369  09-31-1994   \n",
            "11                015685      Harry      Potter     9852  10-16-1994   \n",
            "12                 07619        Ron     Weasley     7512  01-15-1994   \n",
            "13                021456    Neville  Longbottom     5789         NaN   \n",
            "14                 07619        Ron     Weasley     9861  07-08-1994   \n",
            "15                051627      Albus  Dumbledore     5862  08-19-1994   \n",
            "16                015685      harry      potter     5698  06-19-1994   \n",
            "17                014593   Hermione     Granger     1535  10-07-1994   \n",
            "18                015685        NaN      Potter     8597  15-05-1994   \n",
            "19                 07619        Ron     Weasley     7512  01-15-1994   \n",
            "20                015685      Harry      Potter     9870  10-17-1994   \n",
            "21                051627      Albus  Dumbledore     9871  10-17-1994   \n",
            "22                051672      Albus  dumbledore     9872  10-29-1994   \n",
            "23                   NaN      Harry      Potter     9873  11-02-1994   \n",
            "24                  0145   hermione     granger     9874  11-04-1994   \n",
            "25                 07619        rOn     Weasley     9875  11-04-1994   \n",
            "26                 01234        Ron     Weasley     9876         NaN   \n",
            "27                   NaN      Dobby         NaN     9877  1994-11-10   \n",
            "28                053422   Serverus       Snape     9879  1994-12-32   \n",
            "\n",
            "    time_spent  height(cm)  weight(kg)  charge  supplies_used  \n",
            "0   20 minutes       174.0          57   25.72       5.000000  \n",
            "1   10 minutes       180.0          60    7.16       2.000000  \n",
            "2   20 minutes       164.0          53    8.85       1.000000  \n",
            "3    5 minutes       174.0          58   25.72       3.000000  \n",
            "4   20 minutes       174.0          55   25.72       3.000000  \n",
            "5   10 minutes       106.0          25   17.42       0.000000  \n",
            "6     .5 hours         NaN          60   22.07       5.000000  \n",
            "7    20 minute        57.0         174   18.09       5.000000  \n",
            "8   15 minutes       180.0          61   15.24       1.000000  \n",
            "9   10 minutes       185.0          82    0.00       0.000000  \n",
            "10  20 minutes       180.0          59   18.02       3.000000  \n",
            "11  20 minutes       174.0          55   19.84       6.000000  \n",
            "12  10 minutes       180.0          60   22.17      10.000000  \n",
            "13  10 minutes       182.0          76   25.72       3.703704  \n",
            "14   7 minutes       180.0          60   19.19       5.000000  \n",
            "15  15 minutes       185.0          73    9.75       0.000000  \n",
            "16  10 minutes       174.0          58    5.23       1.000000  \n",
            "17  20 minutes       164.0          53   30.75      10.000000  \n",
            "18  15 minutes       174.0          58   42.67      15.000000  \n",
            "19  10 minutes       180.0          60   22.17      10.000000  \n",
            "20  0.25 hours       174.0          57   15.24       1.000000  \n",
            "21  20 minutes       185.0          73    9.52       2.000000  \n",
            "22    8 minute       185.0          73    0.00       0.000000  \n",
            "23  23 minutes       174.0          57   10.00       3.703704  \n",
            "24     1 hours       164.0          53   30.02       5.000000  \n",
            "25    5 minute       180.0          60    3.99       1.000000  \n",
            "26  20 minutes       180.0          60   16.23       4.000000  \n",
            "27  0.75 hours       106.0          25    6.98       2.000000  \n",
            "28   17 minute       185.0          82    0.00       0.000000  \n"
          ]
        }
      ],
      "source": [
        "# insert code here\n",
        "# get indices of rows where supplies used entries are either na, negative, or greater than 100\n",
        "bad_supplies_used_ind = nurse_data[nurse_data['supplies_used'].isna() | (nurse_data['supplies_used'] < 0) | (nurse_data['supplies_used'] > 100)].index[0]\n",
        "# replace all those bad entries with na values\n",
        "nurse_data.loc[[bad_supplies_used_ind], ['supplies_used']] = np.nan\n",
        "# calculate the average supplied used excluding na entries\n",
        "avg_supplies_used = nurse_data['supplies_used'].mean(skipna=True)\n",
        "# replace all na entries in column with the average\n",
        "nurse_data['supplies_used'].fillna(avg_supplies_used, inplace=True)\n",
        "# display dataset after bad data replacement\n",
        "print(nurse_data) "
      ]
    },
    {
      "cell_type": "markdown",
      "metadata": {
        "id": "j664nGvDz9Bn"
      },
      "source": [
        "#Part 6 -- Normalize Time Spent\n",
        "\n",
        "(15 points) Add two columns to your data structure by splitting the *time_spent* column. Split this into two columns named *time_spent* and *time_spent_unit*, where the number value is stored into *time_spent* and the description of the unit (minutes, hours, etc) is stored in *time_spent_unit*.  \n",
        "\n",
        "Furthermore, convert any values with hours as units into minutes as units and correct any typos of minute to minutes. Print your data to verify your changes.\n",
        "\n"
      ]
    },
    {
      "cell_type": "code",
      "execution_count": 6,
      "metadata": {
        "id": "5e8eds_Aupij"
      },
      "outputs": [
        {
          "name": "stdout",
          "output_type": "stream",
          "text": [
            "   medical_record_number first_name   last_name visit_id        date  \\\n",
            "0                 015685      Harry      Potter     8219  06-05-1994   \n",
            "1                  07619        Ron     Weasley     7512  01-15-1994   \n",
            "2                 014593   Hermione     Granger     5896  01-25-1994   \n",
            "3                 015685      Harry      Potter     1552  1994-02-15   \n",
            "4                 015685      Harry      Potter     1202  05-19-1994   \n",
            "5                  08954      Dobby         NaN     1205  03-12-1994   \n",
            "6                  07619        Ron     Weasley     6895  04-05-1994   \n",
            "7                 015689      Harry      Potter     6854  10-11-1994   \n",
            "8                  07619        Ron     Weasley     1265  07-08-1994   \n",
            "9                    NaN   Serverus       Snape     5454  09-12-1994   \n",
            "10                015685        Ron     Weasley     2369  09-31-1994   \n",
            "11                015685      Harry      Potter     9852  10-16-1994   \n",
            "12                 07619        Ron     Weasley     7512  01-15-1994   \n",
            "13                021456    Neville  Longbottom     5789         NaN   \n",
            "14                 07619        Ron     Weasley     9861  07-08-1994   \n",
            "15                051627      Albus  Dumbledore     5862  08-19-1994   \n",
            "16                015685      harry      potter     5698  06-19-1994   \n",
            "17                014593   Hermione     Granger     1535  10-07-1994   \n",
            "18                015685        NaN      Potter     8597  15-05-1994   \n",
            "19                 07619        Ron     Weasley     7512  01-15-1994   \n",
            "20                015685      Harry      Potter     9870  10-17-1994   \n",
            "21                051627      Albus  Dumbledore     9871  10-17-1994   \n",
            "22                051672      Albus  dumbledore     9872  10-29-1994   \n",
            "23                   NaN      Harry      Potter     9873  11-02-1994   \n",
            "24                  0145   hermione     granger     9874  11-04-1994   \n",
            "25                 07619        rOn     Weasley     9875  11-04-1994   \n",
            "26                 01234        Ron     Weasley     9876         NaN   \n",
            "27                   NaN      Dobby         NaN     9877  1994-11-10   \n",
            "28                053422   Serverus       Snape     9879  1994-12-32   \n",
            "\n",
            "    time_spent time_spent_unit  height(cm)  weight(kg)  charge  supplies_used  \n",
            "0         20.0         minutes       174.0          57   25.72       5.000000  \n",
            "1         10.0         minutes       180.0          60    7.16       2.000000  \n",
            "2         20.0         minutes       164.0          53    8.85       1.000000  \n",
            "3          5.0         minutes       174.0          58   25.72       3.000000  \n",
            "4         20.0         minutes       174.0          55   25.72       3.000000  \n",
            "5         10.0         minutes       106.0          25   17.42       0.000000  \n",
            "6         30.0         minutes         NaN          60   22.07       5.000000  \n",
            "7         20.0         minutes        57.0         174   18.09       5.000000  \n",
            "8         15.0         minutes       180.0          61   15.24       1.000000  \n",
            "9         10.0         minutes       185.0          82    0.00       0.000000  \n",
            "10        20.0         minutes       180.0          59   18.02       3.000000  \n",
            "11        20.0         minutes       174.0          55   19.84       6.000000  \n",
            "12        10.0         minutes       180.0          60   22.17      10.000000  \n",
            "13        10.0         minutes       182.0          76   25.72       3.703704  \n",
            "14         7.0         minutes       180.0          60   19.19       5.000000  \n",
            "15        15.0         minutes       185.0          73    9.75       0.000000  \n",
            "16        10.0         minutes       174.0          58    5.23       1.000000  \n",
            "17        20.0         minutes       164.0          53   30.75      10.000000  \n",
            "18        15.0         minutes       174.0          58   42.67      15.000000  \n",
            "19        10.0         minutes       180.0          60   22.17      10.000000  \n",
            "20        15.0         minutes       174.0          57   15.24       1.000000  \n",
            "21        20.0         minutes       185.0          73    9.52       2.000000  \n",
            "22         8.0         minutes       185.0          73    0.00       0.000000  \n",
            "23        23.0         minutes       174.0          57   10.00       3.703704  \n",
            "24        60.0         minutes       164.0          53   30.02       5.000000  \n",
            "25         5.0         minutes       180.0          60    3.99       1.000000  \n",
            "26        20.0         minutes       180.0          60   16.23       4.000000  \n",
            "27        45.0         minutes       106.0          25    6.98       2.000000  \n",
            "28        17.0         minutes       185.0          82    0.00       0.000000  \n"
          ]
        }
      ],
      "source": [
        "# insert code here\n",
        "# split time_spent number values and units into 2-column DataFrame\n",
        "split_time_spent = nurse_data['time_spent'].str.split(' ', n=1, expand=True)\n",
        "# store number value in time_spent column\n",
        "nurse_data['time_spent'] = pd.to_numeric(split_time_spent[0])\n",
        "# insert unit column next to time_spent column\n",
        "nurse_data.insert(loc=nurse_data.columns.get_loc('time_spent')+1, column='time_spent_unit', value=split_time_spent[1])\n",
        "# check data quality\n",
        "for row_ind in range(nurse_data.shape[0]):\n",
        "    # convert hour value to minute value\n",
        "    if nurse_data.at[row_ind, 'time_spent_unit'] == 'hours':\n",
        "        nurse_data.at[row_ind, 'time_spent'] *= 60\n",
        "        nurse_data.at[row_ind, 'time_spent_unit'] = 'minutes'\n",
        "    # correct minutes typo\n",
        "    elif nurse_data.at[row_ind, 'time_spent_unit'] == 'minute':\n",
        "        nurse_data.at[row_ind, 'time_spent_unit'] = 'minutes'\n",
        "# display dataset after normalization\n",
        "print(nurse_data)"
      ]
    },
    {
      "cell_type": "markdown",
      "metadata": {
        "id": "MB0plvPtNcJj"
      },
      "source": [
        "# Part 7 -- Replace Bad Dates\n",
        "\n",
        "(5 points) Replace any bad dates (missing, impossible dates, poorly formated, etc) with a date representing January 1st, 1994. Print your data to verify your changes.\n"
      ]
    },
    {
      "cell_type": "code",
      "execution_count": 7,
      "metadata": {
        "id": "M8I8pVsfMuKk"
      },
      "outputs": [
        {
          "name": "stdout",
          "output_type": "stream",
          "text": [
            "   medical_record_number first_name   last_name visit_id        date  \\\n",
            "0                 015685      Harry      Potter     8219  06-05-1994   \n",
            "1                  07619        Ron     Weasley     7512  01-15-1994   \n",
            "2                 014593   Hermione     Granger     5896  01-25-1994   \n",
            "3                 015685      Harry      Potter     1552  01-01-1994   \n",
            "4                 015685      Harry      Potter     1202  05-19-1994   \n",
            "5                  08954      Dobby         NaN     1205  03-12-1994   \n",
            "6                  07619        Ron     Weasley     6895  04-05-1994   \n",
            "7                 015689      Harry      Potter     6854  10-11-1994   \n",
            "8                  07619        Ron     Weasley     1265  07-08-1994   \n",
            "9                    NaN   Serverus       Snape     5454  09-12-1994   \n",
            "10                015685        Ron     Weasley     2369  01-01-1994   \n",
            "11                015685      Harry      Potter     9852  10-16-1994   \n",
            "12                 07619        Ron     Weasley     7512  01-15-1994   \n",
            "13                021456    Neville  Longbottom     5789  01-01-1994   \n",
            "14                 07619        Ron     Weasley     9861  07-08-1994   \n",
            "15                051627      Albus  Dumbledore     5862  08-19-1994   \n",
            "16                015685      harry      potter     5698  06-19-1994   \n",
            "17                014593   Hermione     Granger     1535  10-07-1994   \n",
            "18                015685        NaN      Potter     8597  01-01-1994   \n",
            "19                 07619        Ron     Weasley     7512  01-15-1994   \n",
            "20                015685      Harry      Potter     9870  10-17-1994   \n",
            "21                051627      Albus  Dumbledore     9871  10-17-1994   \n",
            "22                051672      Albus  dumbledore     9872  10-29-1994   \n",
            "23                   NaN      Harry      Potter     9873  11-02-1994   \n",
            "24                  0145   hermione     granger     9874  11-04-1994   \n",
            "25                 07619        rOn     Weasley     9875  11-04-1994   \n",
            "26                 01234        Ron     Weasley     9876  01-01-1994   \n",
            "27                   NaN      Dobby         NaN     9877  01-01-1994   \n",
            "28                053422   Serverus       Snape     9879  01-01-1994   \n",
            "\n",
            "    time_spent time_spent_unit  height(cm)  weight(kg)  charge  supplies_used  \n",
            "0         20.0         minutes       174.0          57   25.72       5.000000  \n",
            "1         10.0         minutes       180.0          60    7.16       2.000000  \n",
            "2         20.0         minutes       164.0          53    8.85       1.000000  \n",
            "3          5.0         minutes       174.0          58   25.72       3.000000  \n",
            "4         20.0         minutes       174.0          55   25.72       3.000000  \n",
            "5         10.0         minutes       106.0          25   17.42       0.000000  \n",
            "6         30.0         minutes         NaN          60   22.07       5.000000  \n",
            "7         20.0         minutes        57.0         174   18.09       5.000000  \n",
            "8         15.0         minutes       180.0          61   15.24       1.000000  \n",
            "9         10.0         minutes       185.0          82    0.00       0.000000  \n",
            "10        20.0         minutes       180.0          59   18.02       3.000000  \n",
            "11        20.0         minutes       174.0          55   19.84       6.000000  \n",
            "12        10.0         minutes       180.0          60   22.17      10.000000  \n",
            "13        10.0         minutes       182.0          76   25.72       3.703704  \n",
            "14         7.0         minutes       180.0          60   19.19       5.000000  \n",
            "15        15.0         minutes       185.0          73    9.75       0.000000  \n",
            "16        10.0         minutes       174.0          58    5.23       1.000000  \n",
            "17        20.0         minutes       164.0          53   30.75      10.000000  \n",
            "18        15.0         minutes       174.0          58   42.67      15.000000  \n",
            "19        10.0         minutes       180.0          60   22.17      10.000000  \n",
            "20        15.0         minutes       174.0          57   15.24       1.000000  \n",
            "21        20.0         minutes       185.0          73    9.52       2.000000  \n",
            "22         8.0         minutes       185.0          73    0.00       0.000000  \n",
            "23        23.0         minutes       174.0          57   10.00       3.703704  \n",
            "24        60.0         minutes       164.0          53   30.02       5.000000  \n",
            "25         5.0         minutes       180.0          60    3.99       1.000000  \n",
            "26        20.0         minutes       180.0          60   16.23       4.000000  \n",
            "27        45.0         minutes       106.0          25    6.98       2.000000  \n",
            "28        17.0         minutes       185.0          82    0.00       0.000000  \n"
          ]
        }
      ],
      "source": [
        "# insert code here\n",
        "# set all non mm-dd-yyyy entries to NaT\n",
        "nurse_data['date'] = pd.to_datetime(nurse_data['date'], format='%m-%d-%Y', errors='coerce').dt.strftime('%m-%d-%Y')\n",
        "# replace all na entries with '01-01-1994'\n",
        "nurse_data['date'] = nurse_data['date'].fillna(value='01-01-1994')\n",
        "# display dataset after replacement\n",
        "print(nurse_data)"
      ]
    },
    {
      "cell_type": "markdown",
      "metadata": {
        "id": "VFkZIVEG8D3P"
      },
      "source": [
        "#Part 8 -- Consistency of IDs\n",
        "\n",
        "(10 points) Replace any inconsistent medical record numbers with the most commonly occurring medical record number for each first/last name combination (ignoring case). For example, 015689 was inconsistent with Potter's other IDs and would become 015685."
      ]
    },
    {
      "cell_type": "code",
      "execution_count": 8,
      "metadata": {
        "id": "vdhbpr6q8zJP"
      },
      "outputs": [],
      "source": [
        "# insert code here\n",
        "# replace NaN fields in names to empty strings to use as group keys\n",
        "nurse_data['first_name'] = nurse_data['first_name'].fillna('')\n",
        "nurse_data['last_name'] = nurse_data['last_name'].fillna('')\n",
        "# get unique patient records with their corresponding most common IDs\n",
        "unique_patients = nurse_data.groupby([nurse_data['first_name'].str.lower(), nurse_data['last_name'].str.lower()], dropna=False)['medical_record_number'].agg(lambda x: pd.Series.mode(x, dropna=True))\n",
        "# for each record, replace ID with their most common one found above\n",
        "for row_ind in range(nurse_data.shape[0]):\n",
        "    # get keys which are lowercase first and last name\n",
        "    first_name = (nurse_data.at[row_ind, 'first_name'])\n",
        "    if isinstance(first_name, str): first_name = first_name.lower()\n",
        "    last_name = (nurse_data.at[row_ind, 'last_name'])\n",
        "    if isinstance(last_name, str): last_name = last_name.lower()\n",
        "    # get corresponding common ID\n",
        "    common_id = unique_patients[first_name][last_name]\n",
        "    # if current ID doesn't match, replace it with their common ID\n",
        "    if nurse_data.at[row_ind, 'medical_record_number'] != common_id:\n",
        "        nurse_data.at[row_ind, 'medical_record_number'] = common_id\n",
        "    "
      ]
    },
    {
      "cell_type": "markdown",
      "metadata": {
        "id": "6FFcl2Lm2Q5t"
      },
      "source": [
        "# Part 9 -- Calculate Aggregates, Part 1\n",
        "\n",
        "(5 points) Use your cleaned data to calculate the mean time spent (in minutes) for all records. Print this value.\n",
        "\n"
      ]
    },
    {
      "cell_type": "code",
      "execution_count": 9,
      "metadata": {
        "id": "7foNwnTaUQ85"
      },
      "outputs": [
        {
          "name": "stdout",
          "output_type": "stream",
          "text": [
            "Mean Time Spent is 17.586206896551722 minutes\n"
          ]
        }
      ],
      "source": [
        "# insert code here\n",
        "# calculate mean time spent of all records in minutes\n",
        "mean_time_spent = nurse_data['time_spent'].mean()\n",
        "# output mean time spent value\n",
        "print('Mean Time Spent is', mean_time_spent, 'minutes')"
      ]
    },
    {
      "cell_type": "markdown",
      "metadata": {
        "id": "kP6_S8ni6l-w"
      },
      "source": [
        "# Part 10 -- Calculate Aggregates, Part 2\n",
        "\n",
        "(5 points) Use your cleaned data to find the month in 1994 with the largest amount of time spent logged by the nurse. Print this value.  \n",
        "\n",
        "Leave as a comment any lingering data quality concerns you might have in reporting aggregate monthly values back to Hogwarts administration."
      ]
    },
    {
      "cell_type": "code",
      "execution_count": 10,
      "metadata": {
        "id": "5Y9hz7xJ7OXw"
      },
      "outputs": [
        {
          "name": "stdout",
          "output_type": "stream",
          "text": [
            "The largest amount of time spent is 182.0 minutes during the month 11\n"
          ]
        }
      ],
      "source": [
        "# insert code here\n",
        "# get total time spent of each month (extracting the first part of date format)\n",
        "time_spent_per_month = nurse_data.groupby([nurse_data['date'].str[:2]])['time_spent'].sum().reset_index()\n",
        "# find the month with the most time spent\n",
        "greatest_time_spent_per_month = time_spent_per_month.max()\n",
        "# display result\n",
        "print(\"The largest amount of time spent is\", greatest_time_spent_per_month['time_spent'], \"minutes during the month\", greatest_time_spent_per_month['date'])\n",
        "\n",
        "# for the supplies used, we are using mean to replace bad data, which is float, while supplies used should be integer type"
      ]
    },
    {
      "cell_type": "markdown",
      "metadata": {
        "id": "2nIMI92xZ_OZ"
      },
      "source": [
        "#Part 11 -- Documentation and Correctness\n",
        "(10 points) Please document your code with human-readable messages explaining what the code is doing; at a minimum, every function and control structure should be documented.  If your response is a 1-liner, explain how it works.\n",
        "\n",
        "Additionally, please error check your code; partial credit will be given to answers that do not fully address the requirements. For example, if it says write a function, please make sure your code provides a function.\n",
        "\n",
        "Please make sure your submission has everything completed.\n",
        "\n",
        "**If you modified the original data file, please submit your updated file too.** If you used Python to generate test cases and simply running your code loads the new test cases, you do not need to upload the original data file."
      ]
    }
  ],
  "metadata": {
    "colab": {
      "collapsed_sections": [],
      "provenance": []
    },
    "kernelspec": {
      "display_name": "Python 3.10.1 64-bit",
      "language": "python",
      "name": "python3"
    },
    "language_info": {
      "codemirror_mode": {
        "name": "ipython",
        "version": 3
      },
      "file_extension": ".py",
      "mimetype": "text/x-python",
      "name": "python",
      "nbconvert_exporter": "python",
      "pygments_lexer": "ipython3",
      "version": "3.10.1"
    },
    "vscode": {
      "interpreter": {
        "hash": "369f2c481f4da34e4445cda3fffd2e751bd1c4d706f27375911949ba6bb62e1c"
      }
    }
  },
  "nbformat": 4,
  "nbformat_minor": 0
}
