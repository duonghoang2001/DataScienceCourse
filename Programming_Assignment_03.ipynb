{
  "cells": [
    {
      "cell_type": "markdown",
      "metadata": {
        "id": "lOasO_-uLZfM"
      },
      "source": [
        "## Programming Assignment #3\n",
        "\n",
        "**Hogwarts Data Cleaning**\n",
        "\n",
        "100 points possible.\n",
        "\n",
        "This assignment asks you to perform specific data cleaning tasks."
      ]
    },
    {
      "cell_type": "markdown",
      "metadata": {
        "id": "9bZ-x9euLD9_"
      },
      "source": [
        "# The Setting -- The Return to Hogwarts\n",
        "\n",
        "Being a wizard can be dangerous. Being a wizard in training can be even more dangerous. The Hogwarts school nurse is a very busy person and records their activity in a log.\n",
        "\n",
        "You are asked to review a sample of the logs from the nurse's office of Hogwarts and to **clean** these logs for analysis later on.  Please perform these parts **in order** as earlier steps may impact later steps.\n",
        "\n",
        "Note: in class, we saw that there were a wide variety of issues with the data file.  This assignment asks you to programmatically clean data quality issues on **a specific subset of the of the issues** identified in class. You do not have to resolve all issues in the file, only those described below."
      ]
    },
    {
      "cell_type": "markdown",
      "metadata": {
        "id": "UNSIV2pP6dJL"
      },
      "source": [
        "# Part 0 -- Submission Details\n",
        "\n",
        "\n",
        "(10 points) Please enter your name and the date below. Submit your answers as a completed notebook by the deadline posted on Canvas.  Late submissions will not get credit for this section.\n",
        "\n",
        "Name: Duong Hoang\n",
        "\n",
        "Date: 10/13/2022\n"
      ]
    },
    {
      "cell_type": "markdown",
      "metadata": {
        "id": "OvdER_ka0ywR"
      },
      "source": [
        "# Part 1 -- Create New Test Cases\n",
        "\n",
        "(10 points) Review the original data and the data quality tasks below.  Design 10 test records (rows of patient visits) to insert into the original data.  You can manually develop these by modifying the original file or use Python in some capacity to generate them. If you modify the original file, please submit your modified file with your submission.\n",
        "\n",
        "In plain english, explain how your test records will help test the data quality tasks. What makes them good test cases?"
      ]
    },
    {
      "cell_type": "markdown",
      "metadata": {
        "id": "R4z_5JIA11KI"
      },
      "source": [
        "**Answer: add discussion here.**"
      ]
    },
    {
      "cell_type": "code",
      "execution_count": 23,
      "metadata": {
        "id": "ggmN6vp715mf"
      },
      "outputs": [],
      "source": [
        "# insert code (if applicable)\n",
        "import pandas as pd\n",
        "import numpy as np\n",
        "#new_records = pd.DataFrame([[12340, 'Sirius', 'Black', ]])"
      ]
    },
    {
      "cell_type": "markdown",
      "metadata": {
        "id": "V2qKhuvALpIh"
      },
      "source": [
        "#Part 2 -- Create\n",
        "\n",
        "(5 points) Load the original data and your new test cases into the same Python structure (of your choice).\n",
        "\n"
      ]
    },
    {
      "cell_type": "code",
      "execution_count": 24,
      "metadata": {
        "id": "xUXWetgbWx-F"
      },
      "outputs": [
        {
          "name": "stdout",
          "output_type": "stream",
          "text": [
            "medical_record_number    float64\n",
            "first_name                object\n",
            "last_name                 object\n",
            "visit_id                   int64\n",
            "date                      object\n",
            "time_spent                object\n",
            "height(cm)               float64\n",
            "weight(kg)                 int64\n",
            "charge                   float64\n",
            "supplies_used            float64\n",
            "dtype: object\n"
          ]
        }
      ],
      "source": [
        "# insert code here\n",
        "nurse_data = pd.read_csv('nurse-log.csv')\n",
        "print(nurse_data.dtypes)"
      ]
    },
    {
      "cell_type": "markdown",
      "metadata": {
        "id": "pudJ8kZQMuvs"
      },
      "source": [
        "# Part 3 -- Missing Data for Time Spent\n",
        "\n",
        "(5 points) Drop all rows with missing values for the time_spent column.  Print your data to verify your changes.\n"
      ]
    },
    {
      "cell_type": "code",
      "execution_count": 25,
      "metadata": {
        "id": "SK6mKpuKvE6K"
      },
      "outputs": [
        {
          "name": "stdout",
          "output_type": "stream",
          "text": [
            "    medical_record_number first_name   last_name  visit_id        date  \\\n",
            "0                 15685.0      Harry      Potter      8219  06-05-1994   \n",
            "1                  7619.0        Ron     Weasley      7512  01-15-1994   \n",
            "2                 14593.0   Hermione     Granger      5896  01-25-1994   \n",
            "3                 15685.0      Harry      Potter      1552  1994-02-15   \n",
            "4                 15685.0      Harry      Potter      1202  05-19-1994   \n",
            "5                  8954.0      Dobby         NaN      1205  03-12-1994   \n",
            "6                  7619.0        Ron     Weasley      6895  04-05-1994   \n",
            "7                 15689.0      Harry      Potter      6854  10-11-1994   \n",
            "8                  7619.0        Ron     Weasley      1265  07-08-1994   \n",
            "9                     NaN   Serverus       Snape      5454  09-12-1994   \n",
            "10                15685.0        Ron     Weasley      2369  09-31-1994   \n",
            "11                15685.0      Harry      Potter      9852  10-16-1994   \n",
            "12                 7619.0        Ron     Weasley      7512  01-15-1994   \n",
            "13                21456.0    Neville  Longbottom      5789         NaN   \n",
            "14                 7619.0        Ron     Weasley      9861  07-08-1994   \n",
            "15                51627.0      Albus  Dumbledore      5862  08-19-1994   \n",
            "16                15685.0      harry      potter      5698  06-19-1994   \n",
            "17                14593.0   Hermione     Granger      1535  10-07-1994   \n",
            "19                15685.0        NaN      Potter      8597  15-05-1994   \n",
            "20                51627.0      Albus  Dumbledore      3666  05-07-1994   \n",
            "21                 7619.0        Ron     Weasley      7512  01-15-1994   \n",
            "\n",
            "    time_spent  height(cm)  weight(kg)  charge  supplies_used  \n",
            "0   20 minutes       174.0          57   25.72            5.0  \n",
            "1   10 minutes       180.0          60    7.16            2.0  \n",
            "2   20 minutes       164.0          53    8.85            1.0  \n",
            "3    5 minutes       174.0          58   25.72            3.0  \n",
            "4   20 minutes       174.0          55   25.72            3.0  \n",
            "5   10 minutes       106.0          25   17.42            0.0  \n",
            "6     .5 hours         NaN          60   22.07            5.0  \n",
            "7    20 minute        57.0         174   18.09            5.0  \n",
            "8   15 minutes       180.0          61   15.24            1.0  \n",
            "9   10 minutes       185.0          82    0.00            0.0  \n",
            "10  20 minutes       180.0          59   18.02            3.0  \n",
            "11  20 minutes       174.0          55   19.84            6.0  \n",
            "12  10 minutes       180.0          60   22.17           10.0  \n",
            "13  10 minutes       182.0          76   25.72            NaN  \n",
            "14   7 minutes       180.0          60   19.19            5.0  \n",
            "15  15 minutes       185.0          73    9.75            0.0  \n",
            "16  10 minutes       174.0          58    5.23            1.0  \n",
            "17  20 minutes       164.0          53   30.75           10.0  \n",
            "19  15 minutes       174.0          58   42.67           15.0  \n",
            "20  10 minutes      1855.0          73   19.85         8000.0  \n",
            "21  10 minutes       180.0          60   22.17           10.0  \n"
          ]
        }
      ],
      "source": [
        "# insert code here\n",
        "# drop all rows where time_spent entries are na \n",
        "nurse_data.dropna(subset=['time_spent'], inplace=True)\n",
        "# display dataset after dropping\n",
        "print(nurse_data)"
      ]
    },
    {
      "cell_type": "markdown",
      "metadata": {
        "id": "4YjUZ5bGvGbL"
      },
      "source": [
        "# Part 4 -- Range checking for Height\n",
        "\n",
        "(10 points) Drop all rows with values larger than 250 for height (slightly larger than the world record for tallest person). Print your data to verify your changes.\n"
      ]
    },
    {
      "cell_type": "code",
      "execution_count": 26,
      "metadata": {
        "id": "nPOI-8cwvDjN"
      },
      "outputs": [
        {
          "name": "stdout",
          "output_type": "stream",
          "text": [
            "    medical_record_number first_name   last_name  visit_id        date  \\\n",
            "0                 15685.0      Harry      Potter      8219  06-05-1994   \n",
            "1                  7619.0        Ron     Weasley      7512  01-15-1994   \n",
            "2                 14593.0   Hermione     Granger      5896  01-25-1994   \n",
            "3                 15685.0      Harry      Potter      1552  1994-02-15   \n",
            "4                 15685.0      Harry      Potter      1202  05-19-1994   \n",
            "5                  8954.0      Dobby         NaN      1205  03-12-1994   \n",
            "6                  7619.0        Ron     Weasley      6895  04-05-1994   \n",
            "7                 15689.0      Harry      Potter      6854  10-11-1994   \n",
            "8                  7619.0        Ron     Weasley      1265  07-08-1994   \n",
            "9                     NaN   Serverus       Snape      5454  09-12-1994   \n",
            "10                15685.0        Ron     Weasley      2369  09-31-1994   \n",
            "11                15685.0      Harry      Potter      9852  10-16-1994   \n",
            "12                 7619.0        Ron     Weasley      7512  01-15-1994   \n",
            "13                21456.0    Neville  Longbottom      5789         NaN   \n",
            "14                 7619.0        Ron     Weasley      9861  07-08-1994   \n",
            "15                51627.0      Albus  Dumbledore      5862  08-19-1994   \n",
            "16                15685.0      harry      potter      5698  06-19-1994   \n",
            "17                14593.0   Hermione     Granger      1535  10-07-1994   \n",
            "19                15685.0        NaN      Potter      8597  15-05-1994   \n",
            "21                 7619.0        Ron     Weasley      7512  01-15-1994   \n",
            "\n",
            "    time_spent  height(cm)  weight(kg)  charge  supplies_used  \n",
            "0   20 minutes       174.0          57   25.72            5.0  \n",
            "1   10 minutes       180.0          60    7.16            2.0  \n",
            "2   20 minutes       164.0          53    8.85            1.0  \n",
            "3    5 minutes       174.0          58   25.72            3.0  \n",
            "4   20 minutes       174.0          55   25.72            3.0  \n",
            "5   10 minutes       106.0          25   17.42            0.0  \n",
            "6     .5 hours         NaN          60   22.07            5.0  \n",
            "7    20 minute        57.0         174   18.09            5.0  \n",
            "8   15 minutes       180.0          61   15.24            1.0  \n",
            "9   10 minutes       185.0          82    0.00            0.0  \n",
            "10  20 minutes       180.0          59   18.02            3.0  \n",
            "11  20 minutes       174.0          55   19.84            6.0  \n",
            "12  10 minutes       180.0          60   22.17           10.0  \n",
            "13  10 minutes       182.0          76   25.72            NaN  \n",
            "14   7 minutes       180.0          60   19.19            5.0  \n",
            "15  15 minutes       185.0          73    9.75            0.0  \n",
            "16  10 minutes       174.0          58    5.23            1.0  \n",
            "17  20 minutes       164.0          53   30.75           10.0  \n",
            "19  15 minutes       174.0          58   42.67           15.0  \n",
            "21  10 minutes       180.0          60   22.17           10.0  \n"
          ]
        }
      ],
      "source": [
        "# insert code here\n",
        "# get indices of rows where height entries are greater than 250\n",
        "outlier_height_ind = nurse_data[(nurse_data['height(cm)'] > 250)].index\n",
        "# remove those rows from dataset\n",
        "nurse_data.drop(outlier_height_ind, inplace=True)\n",
        "# display dataset after dropping\n",
        "print(nurse_data)"
      ]
    },
    {
      "cell_type": "markdown",
      "metadata": {
        "id": "mEYmdxUdunJR"
      },
      "source": [
        "# Part 5 -- Missing Data for Supplies Used\n",
        "\n",
        "(10 points)  For the supplies used column, replace (1) all missing values, (2) all negative values, and (3) all values over 100 (exclusive). Replace with the **mean** value for supplies used; restrict your mean calculation using non-missing, non-negative values from the *supplies_used* column that are less than or equal to 100. Print your data to verify your changes.\n"
      ]
    },
    {
      "cell_type": "code",
      "execution_count": 27,
      "metadata": {
        "id": "ZBKACQ5pL6U7"
      },
      "outputs": [
        {
          "name": "stdout",
          "output_type": "stream",
          "text": [
            "13\n",
            "    medical_record_number first_name   last_name  visit_id        date  \\\n",
            "0            15685.000000      Harry      Potter      8219  06-05-1994   \n",
            "1             7619.000000        Ron     Weasley      7512  01-15-1994   \n",
            "2            14593.000000   Hermione     Granger      5896  01-25-1994   \n",
            "3            15685.000000      Harry      Potter      1552  1994-02-15   \n",
            "4            15685.000000      Harry      Potter      1202  05-19-1994   \n",
            "5             8954.000000      Dobby    4.473684      1205  03-12-1994   \n",
            "6             7619.000000        Ron     Weasley      6895  04-05-1994   \n",
            "7            15689.000000      Harry      Potter      6854  10-11-1994   \n",
            "8             7619.000000        Ron     Weasley      1265  07-08-1994   \n",
            "9                4.473684   Serverus       Snape      5454  09-12-1994   \n",
            "10           15685.000000        Ron     Weasley      2369  09-31-1994   \n",
            "11           15685.000000      Harry      Potter      9852  10-16-1994   \n",
            "12            7619.000000        Ron     Weasley      7512  01-15-1994   \n",
            "13           21456.000000    Neville  Longbottom      5789    4.473684   \n",
            "14            7619.000000        Ron     Weasley      9861  07-08-1994   \n",
            "15           51627.000000      Albus  Dumbledore      5862  08-19-1994   \n",
            "16           15685.000000      harry      potter      5698  06-19-1994   \n",
            "17           14593.000000   Hermione     Granger      1535  10-07-1994   \n",
            "19           15685.000000   4.473684      Potter      8597  15-05-1994   \n",
            "21            7619.000000        Ron     Weasley      7512  01-15-1994   \n",
            "\n",
            "    time_spent  height(cm)  weight(kg)  charge  supplies_used  \n",
            "0   20 minutes  174.000000          57   25.72       5.000000  \n",
            "1   10 minutes  180.000000          60    7.16       2.000000  \n",
            "2   20 minutes  164.000000          53    8.85       1.000000  \n",
            "3    5 minutes  174.000000          58   25.72       3.000000  \n",
            "4   20 minutes  174.000000          55   25.72       3.000000  \n",
            "5   10 minutes  106.000000          25   17.42       0.000000  \n",
            "6     .5 hours    4.473684          60   22.07       5.000000  \n",
            "7    20 minute   57.000000         174   18.09       5.000000  \n",
            "8   15 minutes  180.000000          61   15.24       1.000000  \n",
            "9   10 minutes  185.000000          82    0.00       0.000000  \n",
            "10  20 minutes  180.000000          59   18.02       3.000000  \n",
            "11  20 minutes  174.000000          55   19.84       6.000000  \n",
            "12  10 minutes  180.000000          60   22.17      10.000000  \n",
            "13  10 minutes  182.000000          76   25.72       4.473684  \n",
            "14   7 minutes  180.000000          60   19.19       5.000000  \n",
            "15  15 minutes  185.000000          73    9.75       0.000000  \n",
            "16  10 minutes  174.000000          58    5.23       1.000000  \n",
            "17  20 minutes  164.000000          53   30.75      10.000000  \n",
            "19  15 minutes  174.000000          58   42.67      15.000000  \n",
            "21  10 minutes  180.000000          60   22.17      10.000000  \n"
          ]
        }
      ],
      "source": [
        "# insert code here\n",
        "# get indices of rows where supplies used entries are either na, negative, or greater than 100\n",
        "bad_supplies_used_ind = nurse_data[nurse_data['supplies_used'].isna() | (nurse_data['supplies_used'] < 0) | (nurse_data['supplies_used'] > 100)].index[0]\n",
        "# replace all those bad entries with na values\n",
        "nurse_data.loc[[bad_supplies_used_ind], ['supplies_used']] = np.nan\n",
        "# calculate the average supplied used excluding na entries\n",
        "avg_supplies_used = nurse_data['supplies_used'].mean(skipna=True)\n",
        "# replace all na entries in column with the average\n",
        "nurse_data.fillna(avg_supplies_used, inplace=True)\n",
        "# display dataset after bad data replacement\n",
        "print(nurse_data) "
      ]
    },
    {
      "cell_type": "markdown",
      "metadata": {
        "id": "j664nGvDz9Bn"
      },
      "source": [
        "#Part 6 -- Normalize Time Spent\n",
        "\n",
        "(15 points) Add two columns to your data structure by splitting the *time_spent* column. Split this into two columns named *time_spent* and *time_spent_unit*, where the number value is stored into *time_spent* and the description of the unit (minutes, hours, etc) is stored in *time_spent_unit*.  \n",
        "\n",
        "Furthermore, convert any values with hours as units into minutes as units and correct any typos of minute to minutes. Print your data to verify your changes.\n",
        "\n"
      ]
    },
    {
      "cell_type": "code",
      "execution_count": null,
      "metadata": {
        "id": "5e8eds_Aupij"
      },
      "outputs": [],
      "source": [
        "# insert code here\n",
        "split_time_spent = nurse_data['supplies_used'].str.split(' ', n=1, expand=True)\n",
        "nurse_data['time_spent'] = split_time_spent[0]\n",
        "nurse_data['time_spent_unit'] = split_time_spent[1]\n",
        "\n",
        "\n"
      ]
    },
    {
      "cell_type": "markdown",
      "metadata": {
        "id": "MB0plvPtNcJj"
      },
      "source": [
        "# Part 7 -- Replace Bad Dates\n",
        "\n",
        "(5 points) Replace any bad dates (missing, impossible dates, poorly formated, etc) with a date representing January 1st, 1994. Print your data to verify your changes.\n"
      ]
    },
    {
      "cell_type": "code",
      "execution_count": null,
      "metadata": {
        "id": "M8I8pVsfMuKk"
      },
      "outputs": [],
      "source": [
        "# insert code here"
      ]
    },
    {
      "cell_type": "markdown",
      "metadata": {
        "id": "VFkZIVEG8D3P"
      },
      "source": [
        "#Part 8 -- Consistency of IDs\n",
        "\n",
        "(10 points) Replace any inconsistent medical record numbers with the most commonly occurring medical record number for each first/last name combination (ignoring case). For example, 015689 was inconsistent with Potter's other IDs and would become 015685."
      ]
    },
    {
      "cell_type": "code",
      "execution_count": null,
      "metadata": {
        "id": "vdhbpr6q8zJP"
      },
      "outputs": [],
      "source": [
        "# insert code here"
      ]
    },
    {
      "cell_type": "markdown",
      "metadata": {
        "id": "6FFcl2Lm2Q5t"
      },
      "source": [
        "# Part 9 -- Calculate Aggregates, Part 1\n",
        "\n",
        "(5 points) Use your cleaned data to calculate the mean time spent (in minutes) for all records. Print this value.\n",
        "\n"
      ]
    },
    {
      "cell_type": "code",
      "execution_count": null,
      "metadata": {
        "id": "7foNwnTaUQ85"
      },
      "outputs": [],
      "source": [
        "# insert code here"
      ]
    },
    {
      "cell_type": "markdown",
      "metadata": {
        "id": "kP6_S8ni6l-w"
      },
      "source": [
        "# Part 10 -- Calculate Aggregates, Part 2\n",
        "\n",
        "(5 points) Use your cleaned data to find the month in 1994 with the largest amount of time spent logged by the nurse. Print this value.  \n",
        "\n",
        "Leave as a comment any lingering data quality concerns you might have in reporting aggregate monthly values back to Hogwarts administration."
      ]
    },
    {
      "cell_type": "code",
      "execution_count": null,
      "metadata": {
        "id": "5Y9hz7xJ7OXw"
      },
      "outputs": [],
      "source": [
        "# insert code here"
      ]
    },
    {
      "cell_type": "markdown",
      "metadata": {
        "id": "2nIMI92xZ_OZ"
      },
      "source": [
        "#Part 11 -- Documentation and Correctness\n",
        "(10 points) Please document your code with human-readable messages explaining what the code is doing; at a minimum, every function and control structure should be documented.  If your response is a 1-liner, explain how it works.\n",
        "\n",
        "Additionally, please error check your code; partial credit will be given to answers that do not fully address the requirements. For example, if it says write a function, please make sure your code provides a function.\n",
        "\n",
        "Please make sure your submission has everything completed.\n",
        "\n",
        "**If you modified the original data file, please submit your updated file too.** If you used Python to generate test cases and simply running your code loads the new test cases, you do not need to upload the original data file."
      ]
    }
  ],
  "metadata": {
    "colab": {
      "collapsed_sections": [],
      "provenance": []
    },
    "kernelspec": {
      "display_name": "Python 3.10.7 64-bit",
      "language": "python",
      "name": "python3"
    },
    "language_info": {
      "codemirror_mode": {
        "name": "ipython",
        "version": 3
      },
      "file_extension": ".py",
      "mimetype": "text/x-python",
      "name": "python",
      "nbconvert_exporter": "python",
      "pygments_lexer": "ipython3",
      "version": "3.10.7"
    },
    "vscode": {
      "interpreter": {
        "hash": "aee8b7b246df8f9039afb4144a1f6fd8d2ca17a180786b69acc140d282b71a49"
      }
    }
  },
  "nbformat": 4,
  "nbformat_minor": 0
}
