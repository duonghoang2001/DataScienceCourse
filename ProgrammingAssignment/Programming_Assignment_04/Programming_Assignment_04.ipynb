{
 "cells": [
  {
   "cell_type": "markdown",
   "metadata": {},
   "source": [
    "## Programming Assignment #4\n",
    "\n",
    "**Data Science Practicum**\n",
    "\n",
    "100 points possible.\n",
    "\n",
    "This assignment will ask you to develop a notebook requiring various data-related activities (importing, cleaning, manipulating, merging, and aggregating)."
   ]
  },
  {
   "cell_type": "markdown",
   "metadata": {},
   "source": [
    "# Topic: Measuring Neighborhood Availability of Alcohol\n",
    "\n",
    "Use data from KY’s Department of Alcoholic Beverage Control (ABC) to calculate the availability of alcohol in Fayette county’s neighborhoods.  In particular for each neighborhood, **calculate the rate of liquor licenses per capita (the number of licenses divided by the neighborhood’s population).  Show the top 20 neighborhoods with the highest rate of alcohol availability. Show the top 20 neighborhoods with the highest number of licenses.  Discuss whether or not these two top-20 lists differ and how.**  Define neighborhood as a US Census Bureau’s tract (discussed below).  Present this as a notebook, complete with documentation and code. Use the notebook to communicate about the data, process, and results."
   ]
  },
  {
   "cell_type": "markdown",
   "metadata": {},
   "source": [
    "# Part 0 -- Submission Details\n",
    "\n",
    "\n",
    "(10 points) Please enter your name and the date below. Submit your answers as a completed notebook by the deadline posted on Canvas.  Late submissions will not get credit for this section.\n",
    "\n",
    "Name: Duong Hoang\n",
    "\n",
    "Date: 10/27/2022"
   ]
  },
  {
   "cell_type": "markdown",
   "metadata": {},
   "source": [
    "# Part 1 -- Data Import\n",
    "\n",
    "(10 points) Are the appropriate data sets imported correctly?"
   ]
  },
  {
   "cell_type": "code",
   "execution_count": 4,
   "metadata": {},
   "outputs": [
    {
     "name": "stdout",
     "output_type": "stream",
     "text": [
      "License Dataset:\n",
      "     SiteID   County       City                         DBA  \\\n",
      "0     22790  Fayette  Lexington  21c Museum Hotel Lexington   \n",
      "1     26561  Fayette  Lexington      A Cup of Common Wealth   \n",
      "2      5119  Fayette  Lexington   A P Suggins Bar And Grill   \n",
      "3     28033  Fayette  Lexington      Agave & Rye Epic Tacos   \n",
      "4     19206  Fayette  Lexington               Agave and Rye   \n",
      "..      ...      ...        ...                         ...   \n",
      "496   24014  Fayette  Lexington               World of Beer   \n",
      "497   15919  Fayette  Lexington                        XOXO   \n",
      "498   28812  Fayette  Lexington          Yesterday's Lounge   \n",
      "499    5944  Fayette  Lexington            Zen Sushi & sake   \n",
      "500   27204  Fayette  Lexington                  Zim's Cafe   \n",
      "\n",
      "                            Licensee                   PremisesStreet  \\\n",
      "0                167 MAIN HOTEL LLC                     167 W Main St   \n",
      "1        A Cup of Common Wealth LLC                   105 Eastern Ave   \n",
      "2          ROMANY RESTAURANTS, INC.                     345 Romany Rd   \n",
      "3         Agave & Rye Lexington LLC             3535 Nicholasville Rd   \n",
      "4          A&R Lexington Square LLC                    123 N Broadway   \n",
      "..                               ...                              ...   \n",
      "496              BBC Lexington, LLC                122 Marion Ste 150   \n",
      "497  Apollo Entertainment Group LLC                    367 W Short St   \n",
      "498                YESTERDAY'S INC.   828 Lane Allen Rd Ste 140 & 150   \n",
      "499                       Caiye LLC        3070 Lakecrest Cir Ste 500   \n",
      "500                Zim's Cafe , LLC                215 W. Main Street   \n",
      "\n",
      "       PremisesCityState   LicenseNumber  \\\n",
      "0    Lexington, KY 40507    034-NQ2-2920   \n",
      "1    Lexington, KY 40508  034-NQ4-191200   \n",
      "2    Lexington, KY 40502    034-NQ2-1002   \n",
      "3    Lexington, KY 40503    034-NQ2-3989   \n",
      "4    Lexington, KY 40507  034-NQ2-182985   \n",
      "..                   ...             ...   \n",
      "496  Lexington, KY 40517    034-NQ4-3850   \n",
      "497  Lexington, KY 40507  034-NQ4-189434   \n",
      "498  Lexington, KY 40504    034-NQ4-4681   \n",
      "499  Lexington, KY 40513  034-NQ4-187342   \n",
      "500  Lexington, KY 40507    034-NQ2-3843   \n",
      "\n",
      "                                LicenseType  Status   IssueDate EffectiveDate  \\\n",
      "0                  NQ2 Retail Drink License  Active  01/29/2016    01/29/2016   \n",
      "1    NQ4 Retail Malt Beverage Drink License  Active  06/28/2022    06/28/2022   \n",
      "2                  NQ2 Retail Drink License  Active  05/13/2013    06/25/2013   \n",
      "3                  NQ2 Retail Drink License  Active  06/17/2019    06/17/2019   \n",
      "4                  NQ2 Retail Drink License  Active  05/11/2021    05/11/2021   \n",
      "..                                      ...     ...         ...           ...   \n",
      "496  NQ4 Retail Malt Beverage Drink License  Active  06/16/2017    06/16/2017   \n",
      "497  NQ4 Retail Malt Beverage Drink License  Active  03/16/2022    03/16/2022   \n",
      "498  NQ4 Retail Malt Beverage Drink License  Active  11/06/2019    11/06/2019   \n",
      "499  NQ4 Retail Malt Beverage Drink License  Active  12/06/2021    12/06/2021   \n",
      "500                NQ2 Retail Drink License  Active  11/15/2018    11/15/2018   \n",
      "\n",
      "     ExpiryDate  \n",
      "0    11/30/2022  \n",
      "1    11/30/2022  \n",
      "2    08/31/2023  \n",
      "3    11/30/2022  \n",
      "4    11/30/2022  \n",
      "..          ...  \n",
      "496  11/30/2022  \n",
      "497  11/30/2022  \n",
      "498  11/30/2022  \n",
      "499  11/30/2022  \n",
      "500  11/30/2022  \n",
      "\n",
      "[501 rows x 13 columns]\n",
      "\n",
      "Tract Population Dataset:\n",
      "                                            NAME DP05_0001E state county  \\\n",
      "0    Census Tract 1.01, Fayette County, Kentucky       3171    21    067   \n",
      "1    Census Tract 1.02, Fayette County, Kentucky       1584    21    067   \n",
      "2       Census Tract 2, Fayette County, Kentucky       3696    21    067   \n",
      "3       Census Tract 3, Fayette County, Kentucky       2472    21    067   \n",
      "4       Census Tract 4, Fayette County, Kentucky       1983    21    067   \n",
      "..                                           ...        ...   ...    ...   \n",
      "77  Census Tract 42.07, Fayette County, Kentucky       3531    21    067   \n",
      "78  Census Tract 42.08, Fayette County, Kentucky       7671    21    067   \n",
      "79  Census Tract 42.09, Fayette County, Kentucky       4225    21    067   \n",
      "80  Census Tract 42.10, Fayette County, Kentucky       5443    21    067   \n",
      "81  Census Tract 39.14, Fayette County, Kentucky       2301    21    067   \n",
      "\n",
      "    tract  \n",
      "0     101  \n",
      "1     102  \n",
      "2     200  \n",
      "3     300  \n",
      "4     400  \n",
      "..    ...  \n",
      "77   4207  \n",
      "78   4208  \n",
      "79   4209  \n",
      "80   4210  \n",
      "81   3914  \n",
      "\n",
      "[82 rows x 5 columns]\n"
     ]
    }
   ],
   "source": [
    "import pandas as pd\n",
    "import requests\n",
    "\n",
    "# read the small license data file provided in the assignment description\n",
    "# excluding the first 3 lines (non-data)\n",
    "license_data = pd.read_csv('ActiveLicenses-Small.csv', skiprows=3)\n",
    "\n",
    "# get population data from the US Census Bureau’s API\n",
    "population_data = pd.DataFrame(requests.get(url='https://api.census.gov/data/2020/acs/acs5/profile?get=NAME,DP05_0001E&for=tract:*&in=state:21&in=county:067').json()) \n",
    "# handling misreading the blank line as header\n",
    "population_data.rename(columns=population_data.iloc[0], inplace=True)\n",
    "population_data.drop(population_data.index[0], inplace=True)\n",
    "population_data.reset_index(drop=True, inplace=True)\n",
    "population_data['tract'] = pd.to_numeric(population_data['tract'], downcast='unsigned', errors='coerce')\n",
    "\n",
    "# output two datasets\n",
    "print('License Dataset:')\n",
    "print(license_data)\n",
    "print('\\nTract Population Dataset:')\n",
    "print(population_data)"
   ]
  },
  {
   "cell_type": "markdown",
   "metadata": {},
   "source": [
    "# Part 2 -- Data Manipulation\n",
    "\n",
    "(20 points) Does the raw data get translated into usable data? (for example, geocoding)"
   ]
  },
  {
   "cell_type": "code",
   "execution_count": 5,
   "metadata": {},
   "outputs": [],
   "source": [
    "# format address for request\n",
    "req_address = license_data[['PremisesStreet', 'PremisesCityState']].apply(', '.join, axis=1)\n",
    "req_address = req_address.str.replace(' ', '+')\n",
    "req_address = req_address.str.replace(',', '%2C')\n",
    "# create request to geocoding the license data\n",
    "geocoding = req_address.apply(lambda address: requests.get('https://geocoding.geo.census.gov/geocoder/geographies/onelineaddress?address='+address+'&benchmark=Public_AR_Census2020&vintage=Census2020_Census2020&layers=6&format=json'))"
   ]
  },
  {
   "cell_type": "code",
   "execution_count": 6,
   "metadata": {},
   "outputs": [
    {
     "name": "stdout",
     "output_type": "stream",
     "text": [
      "     SiteID   County       City                         DBA  \\\n",
      "0     22790  Fayette  Lexington  21c Museum Hotel Lexington   \n",
      "1     26561  Fayette  Lexington      A Cup of Common Wealth   \n",
      "2      5119  Fayette  Lexington   A P Suggins Bar And Grill   \n",
      "3     28033  Fayette  Lexington      Agave & Rye Epic Tacos   \n",
      "4     19206  Fayette  Lexington               Agave and Rye   \n",
      "..      ...      ...        ...                         ...   \n",
      "412    3355  Fayette  Lexington         Windy Corner Market   \n",
      "413   13143  Fayette  Lexington             Wine and Market   \n",
      "414   15919  Fayette  Lexington                        XOXO   \n",
      "415    5944  Fayette  Lexington            Zen Sushi & sake   \n",
      "416   27204  Fayette  Lexington                  Zim's Cafe   \n",
      "\n",
      "                            Licensee              PremisesStreet  \\\n",
      "0                167 MAIN HOTEL LLC                167 W Main St   \n",
      "1        A Cup of Common Wealth LLC              105 Eastern Ave   \n",
      "2          ROMANY RESTAURANTS, INC.                345 Romany Rd   \n",
      "3         Agave & Rye Lexington LLC        3535 Nicholasville Rd   \n",
      "4          A&R Lexington Square LLC               123 N Broadway   \n",
      "..                               ...                         ...   \n",
      "412        WINDY CORNER MARKET, LLC        4595 Bryan Station Rd   \n",
      "413               ReneeRoseWine LLC              486 W Second St   \n",
      "414  Apollo Entertainment Group LLC               367 W Short St   \n",
      "415                       Caiye LLC   3070 Lakecrest Cir Ste 500   \n",
      "416                Zim's Cafe , LLC           215 W. Main Street   \n",
      "\n",
      "       PremisesCityState   LicenseNumber  \\\n",
      "0    Lexington, KY 40507    034-NQ2-2920   \n",
      "1    Lexington, KY 40508  034-NQ4-191200   \n",
      "2    Lexington, KY 40502    034-NQ2-1002   \n",
      "3    Lexington, KY 40503    034-NQ2-3989   \n",
      "4    Lexington, KY 40507  034-NQ2-182985   \n",
      "..                   ...             ...   \n",
      "412  Lexington, KY 40516    034-NQ2-1777   \n",
      "413  Lexington, KY 40507    034-NQ4-4222   \n",
      "414  Lexington, KY 40507  034-NQ4-189434   \n",
      "415  Lexington, KY 40513  034-NQ4-187342   \n",
      "416  Lexington, KY 40507    034-NQ2-3843   \n",
      "\n",
      "                                LicenseType  Status   IssueDate EffectiveDate  \\\n",
      "0                  NQ2 Retail Drink License  Active  01/29/2016    01/29/2016   \n",
      "1    NQ4 Retail Malt Beverage Drink License  Active  06/28/2022    06/28/2022   \n",
      "2                  NQ2 Retail Drink License  Active  05/13/2013    06/25/2013   \n",
      "3                  NQ2 Retail Drink License  Active  06/17/2019    06/17/2019   \n",
      "4                  NQ2 Retail Drink License  Active  05/11/2021    05/11/2021   \n",
      "..                                      ...     ...         ...           ...   \n",
      "412                NQ2 Retail Drink License  Active  05/13/2013    06/25/2013   \n",
      "413  NQ4 Retail Malt Beverage Drink License  Active  07/13/2018    07/13/2018   \n",
      "414  NQ4 Retail Malt Beverage Drink License  Active  03/16/2022    03/16/2022   \n",
      "415  NQ4 Retail Malt Beverage Drink License  Active  12/06/2021    12/06/2021   \n",
      "416                NQ2 Retail Drink License  Active  11/15/2018    11/15/2018   \n",
      "\n",
      "     ExpiryDate           TractName  \n",
      "0    11/30/2022   Census Tract 1.01  \n",
      "1    11/30/2022   Census Tract 1.01  \n",
      "2    08/31/2023      Census Tract 6  \n",
      "3    11/30/2022  Census Tract 42.04  \n",
      "4    11/30/2022   Census Tract 1.02  \n",
      "..          ...                 ...  \n",
      "412  11/30/2022  Census Tract 39.18  \n",
      "413  11/30/2022   Census Tract 1.02  \n",
      "414  11/30/2022   Census Tract 1.01  \n",
      "415  11/30/2022  Census Tract 42.08  \n",
      "416  11/30/2022   Census Tract 1.01  \n",
      "\n",
      "[417 rows x 14 columns]\n"
     ]
    }
   ],
   "source": [
    "# extract tract name from json responses\n",
    "tract_names = []\n",
    "for i in range(geocoding.size):\n",
    "    try:\n",
    "        # get tract name from good response\n",
    "        tract_name = geocoding[i].json()['result']['addressMatches'][0]['geographies']['Census Tracts'][0]['NAME']\n",
    "        tract_names.append(tract_name)\n",
    "    except:\n",
    "        # append NA for bad response\n",
    "        tract_names.append(pd.NA)\n",
    "\n",
    "# append tract names to the corresponding license record\n",
    "license_data['TractName'] = tract_names\n",
    "\n",
    "# drop all the entries that failed to be processed (where tract name is NA value)\n",
    "license_data.dropna(subset=['TractName'], inplace=True)\n",
    "license_data.reset_index(drop=True, inplace=True)\n",
    "\n",
    "# output license data with corresponding tract names\n",
    "print(license_data)"
   ]
  },
  {
   "cell_type": "markdown",
   "metadata": {},
   "source": [
    "# Part 3 -- Rate Calculation\n",
    "\n",
    "(20 points) Is the rate calculated correctly? Are both data sets utilized correctly?"
   ]
  },
  {
   "cell_type": "code",
   "execution_count": 7,
   "metadata": {},
   "outputs": [
    {
     "name": "stdout",
     "output_type": "stream",
     "text": [
      "            TractName        Rate\n",
      "0   Census Tract 1.01  633.663366\n",
      "1   Census Tract 1.02  166.666667\n",
      "2     Census Tract 10   17.000000\n",
      "3     Census Tract 11    0.909091\n",
      "4     Census Tract 13    3.846154\n",
      "..                ...         ...\n",
      "60     Census Tract 6   10.000000\n",
      "61     Census Tract 7   17.142857\n",
      "62  Census Tract 8.01    1.248439\n",
      "63  Census Tract 8.02    2.493766\n",
      "64     Census Tract 9   27.777778\n",
      "\n",
      "[65 rows x 2 columns]\n"
     ]
    }
   ],
   "source": [
    "# group records by tract name\n",
    "neighbors_data = license_data.groupby(['TractName'], dropna=True)\n",
    "# for each tract, count number of license and get the population size \n",
    "# then append to tract dataset\n",
    "tract_data = []\n",
    "for name, group in neighbors_data:\n",
    "    tract_name = name + ', Fayette County, Kentucky'\n",
    "    population_info =  population_data[population_data['NAME'].str.fullmatch(tract_name)]\n",
    "    tract_data.append([name, group.shape[0], population_info['tract'].iloc[0]])\n",
    "tract_data = pd.DataFrame(tract_data, columns=['TractName', 'LicenseCount', 'PopulationSize'])\n",
    "\n",
    "# calculate the rate of alcohol availability per 1000 people \n",
    "tract_data['Rate'] = tract_data['LicenseCount'] / tract_data['PopulationSize'] * 1000\n",
    "\n",
    "# output tracts and their rates per 1000 people\n",
    "print(tract_data.loc[:, ['TractName', 'Rate']])"
   ]
  },
  {
   "cell_type": "markdown",
   "metadata": {},
   "source": [
    "# Part 4 -- Total Number Calculation\n",
    "\n",
    "(10 points) Is the total number of licenses per neighborhood aggregated correctly?"
   ]
  },
  {
   "cell_type": "code",
   "execution_count": 8,
   "metadata": {},
   "outputs": [
    {
     "name": "stdout",
     "output_type": "stream",
     "text": [
      "            TractName  LicenseCount\n",
      "0   Census Tract 1.01            64\n",
      "1   Census Tract 1.02            17\n",
      "2     Census Tract 10            17\n",
      "3     Census Tract 11             1\n",
      "4     Census Tract 13             5\n",
      "..                ...           ...\n",
      "60     Census Tract 6             6\n",
      "61     Census Tract 7            12\n",
      "62  Census Tract 8.01             1\n",
      "63  Census Tract 8.02             2\n",
      "64     Census Tract 9            25\n",
      "\n",
      "[65 rows x 2 columns]\n"
     ]
    }
   ],
   "source": [
    "# number of licenses per tract is counted in part 3 using groupby tract name\n",
    "# output tracts and their license count\n",
    "print(tract_data.loc[:, ['TractName', 'LicenseCount']])"
   ]
  },
  {
   "cell_type": "markdown",
   "metadata": {},
   "source": [
    "# Part 5 -- Top 20 lists and Discussion\n",
    "\n",
    "(20 points) Are the two top-20 lists presented correctly and are the results discussed?"
   ]
  },
  {
   "cell_type": "code",
   "execution_count": 9,
   "metadata": {},
   "outputs": [
    {
     "name": "stdout",
     "output_type": "stream",
     "text": [
      "The top 20 tracts with the highest rate of alcohol availability are:\n",
      "             TractName  LicenseCount  PopulationSize        Rate\n",
      "0    Census Tract 1.01            64             101  633.663366\n",
      "1    Census Tract 1.02            17             102  166.666667\n",
      "10      Census Tract 2            12             200   60.000000\n",
      "64      Census Tract 9            25             900   27.777778\n",
      "61      Census Tract 7            12             700   17.142857\n",
      "2      Census Tract 10            17            1000   17.000000\n",
      "19      Census Tract 3             5             300   16.666667\n",
      "59      Census Tract 5             7             500   14.000000\n",
      "60      Census Tract 6             6             600   10.000000\n",
      "54  Census Tract 42.04            34            4204    8.087536\n",
      "8      Census Tract 18            11            1800    6.111111\n",
      "17     Census Tract 28            16            2800    5.714286\n",
      "39  Census Tract 39.08            20            3908    5.117707\n",
      "48      Census Tract 4             2             400    5.000000\n",
      "4      Census Tract 13             5            1300    3.846154\n",
      "56  Census Tract 42.08            16            4208    3.802281\n",
      "38  Census Tract 39.06            13            3906    3.328213\n",
      "7      Census Tract 16             5            1600    3.125000\n",
      "63   Census Tract 8.02             2             802    2.493766\n",
      "16     Census Tract 27             6            2700    2.222222\n",
      "\n",
      "The top 20 tracts with the highest number of licenses are:\n",
      "             TractName  LicenseCount  PopulationSize        Rate\n",
      "0    Census Tract 1.01            64             101  633.663366\n",
      "54  Census Tract 42.04            34            4204    8.087536\n",
      "64      Census Tract 9            25             900   27.777778\n",
      "39  Census Tract 39.08            20            3908    5.117707\n",
      "1    Census Tract 1.02            17             102  166.666667\n",
      "2      Census Tract 10            17            1000   17.000000\n",
      "17     Census Tract 28            16            2800    5.714286\n",
      "56  Census Tract 42.08            16            4208    3.802281\n",
      "38  Census Tract 39.06            13            3906    3.328213\n",
      "10      Census Tract 2            12             200   60.000000\n",
      "61      Census Tract 7            12             700   17.142857\n",
      "8      Census Tract 18            11            1800    6.111111\n",
      "55  Census Tract 42.07             8            4207    1.901593\n",
      "37  Census Tract 38.04             7            3804    1.840168\n",
      "50  Census Tract 40.07             7            4007    1.746943\n",
      "59      Census Tract 5             7             500   14.000000\n",
      "16     Census Tract 27             6            2700    2.222222\n",
      "25  Census Tract 34.02             6            3402    1.763668\n",
      "60      Census Tract 6             6             600   10.000000\n",
      "4      Census Tract 13             5            1300    3.846154\n"
     ]
    }
   ],
   "source": [
    "# get the top 20 by availability rate per capita and license count\n",
    "top_20_by_rate = tract_data.nlargest(20, columns='Rate')\n",
    "top_20_by_count = tract_data.nlargest(20, columns='LicenseCount')\n",
    "\n",
    "# output those two top-20\n",
    "print('The top 20 tracts with the highest rate of alcohol availability are:')\n",
    "print(top_20_by_rate)\n",
    "print('\\nThe top 20 tracts with the highest number of licenses are:')\n",
    "print(top_20_by_count)\n",
    "\n",
    "# these two top-20 are different from each other as the number of licenses and \n",
    "# the population size of each tract is not propotional throughout the whole dataset, \n",
    "# therefore, the rate for each tract will not be propotional to the license count \n",
    "# throughout the whole dataset either.\n",
    "# two tracts (1.02 and 10) with the same license counts (17) but have two different \n",
    "# population sizes (102 and 1000) would result in two different rates (166.67 and 17), \n",
    "# thus, result in two different rankings by rate while having the same ranking by count"
   ]
  },
  {
   "cell_type": "markdown",
   "metadata": {},
   "source": [
    "# Part 6 -- Documentation\n",
    "\n",
    "(10 points)  Does your notebook communicate about the data, process, and results? Use the format to tell your code’s story."
   ]
  }
 ],
 "metadata": {
  "kernelspec": {
   "display_name": "Python 3.10.1 64-bit",
   "language": "python",
   "name": "python3"
  },
  "language_info": {
   "codemirror_mode": {
    "name": "ipython",
    "version": 3
   },
   "file_extension": ".py",
   "mimetype": "text/x-python",
   "name": "python",
   "nbconvert_exporter": "python",
   "pygments_lexer": "ipython3",
   "version": "3.10.1"
  },
  "orig_nbformat": 4,
  "vscode": {
   "interpreter": {
    "hash": "369f2c481f4da34e4445cda3fffd2e751bd1c4d706f27375911949ba6bb62e1c"
   }
  }
 },
 "nbformat": 4,
 "nbformat_minor": 2
}
